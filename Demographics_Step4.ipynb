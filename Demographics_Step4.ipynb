{
 "cells": [
  {
   "cell_type": "code",
   "execution_count": 4,
   "metadata": {},
   "outputs": [],
   "source": [
    "import pandas as pd\n",
    "import os\n",
    "import fnmatch"
   ]
  },
  {
   "cell_type": "code",
   "execution_count": 6,
   "metadata": {},
   "outputs": [
    {
     "name": "stderr",
     "output_type": "stream",
     "text": [
      "/opt/conda/lib/python3.6/site-packages/pandas/io/excel.py:329: FutureWarning: The `sheetname` keyword is deprecated, use `sheet_name` instead\n",
      "  **kwds)\n"
     ]
    }
   ],
   "source": [
    "##read base file.\n",
    "Base_df=pd.read_csv('/home/jovyan/Property_proj/Data/2016_Census_NSW_suburbs/2016_Census_NSW_suburbs/2016Census_G02_NSW_SSC.csv')\n",
    "##read data file\n",
    "df=pd.read_csv('/home/jovyan/Property_proj/Data/2016_Census_NSW_suburbs/2016_Census_NSW_suburbs/2016Census_G53A_NSW_SSC.csv')\n",
    "##read meta data(suburb code to name mapping)\n",
    "df_ref_data = pd.read_excel('/home/jovyan/Property_proj/Data/2016_Census_NSW_suburbs/Metadata/2016Census_geog_desc_1st_and_2nd_release.xlsx', index_col=None,\n",
    "                  sheetname ='2016_ASGS_Non-ABS_Structures')"
   ]
  },
  {
   "cell_type": "code",
   "execution_count": null,
   "metadata": {},
   "outputs": [],
   "source": []
  },
  {
   "cell_type": "markdown",
   "metadata": {},
   "source": [
    "# Step 4: Occupation "
   ]
  },
  {
   "cell_type": "code",
   "execution_count": 148,
   "metadata": {},
   "outputs": [],
   "source": [
    "#Base_df.set_index('SSC_CODE_2016')\n",
    "#df_ref_data.set_index('Census_Code_2016')"
   ]
  },
  {
   "cell_type": "code",
   "execution_count": 20,
   "metadata": {},
   "outputs": [],
   "source": [
    "def my_function1(dir_path,file_classification):\n",
    "    all_files=os.listdir(dir_path)\n",
    "    csv_files=[f for f in all_files if f.endswith((\".csv\"))]\n",
    "    needed_file=[]\n",
    "    my_regex= '*' + file_classification + '*'\n",
    "    \n",
    "    for file in csv_files:\n",
    "        if fnmatch.fnmatch(file, my_regex):\n",
    "            needed_file.append(file)\n",
    "    \n",
    "    #print(needed_file)\n",
    "    merg_df=Base_df\n",
    "    #test_merg=df_ref_data['Census_Code_2016']\n",
    "    for file in needed_file:\n",
    "        df=pd.read_csv(dir_path + '/' + file)\n",
    "        df=df.set_index('SSC_CODE_2016')\n",
    "        df=df.filter(regex='_Tot')\n",
    "        #print(df)\n",
    "        merg_df = pd.merge(merg_df, df, how='left', left_index=True, right_index=True)#left_on='SSC_CODE_2016', right_on='SSC_CODE_2016', how='left')\n",
    "        #df.columns\n",
    "    return merg_df\n",
    "    \n"
   ]
  },
  {
   "cell_type": "code",
   "execution_count": 21,
   "metadata": {},
   "outputs": [],
   "source": [
    "a=my_function1('/home/jovyan/Property_proj/Data/2016_Census_NSW_suburbs/2016_Census_NSW_suburbs/','G53')"
   ]
  },
  {
   "cell_type": "code",
   "execution_count": null,
   "metadata": {},
   "outputs": [],
   "source": []
  },
  {
   "cell_type": "code",
   "execution_count": null,
   "metadata": {},
   "outputs": [],
   "source": []
  },
  {
   "cell_type": "code",
   "execution_count": null,
   "metadata": {},
   "outputs": [],
   "source": []
  }
 ],
 "metadata": {
  "kernelspec": {
   "display_name": "Python 3",
   "language": "python",
   "name": "python3"
  },
  "language_info": {
   "codemirror_mode": {
    "name": "ipython",
    "version": 3
   },
   "file_extension": ".py",
   "mimetype": "text/x-python",
   "name": "python",
   "nbconvert_exporter": "python",
   "pygments_lexer": "ipython3",
   "version": "3.6.6"
  }
 },
 "nbformat": 4,
 "nbformat_minor": 2
}
