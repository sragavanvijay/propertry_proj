{
 "cells": [
  {
   "cell_type": "code",
   "execution_count": 3,
   "metadata": {},
   "outputs": [],
   "source": [
    "import pandas as pd\n",
    "import os\n",
    "import fnmatch"
   ]
  },
  {
   "cell_type": "code",
   "execution_count": 5,
   "metadata": {},
   "outputs": [
    {
     "name": "stderr",
     "output_type": "stream",
     "text": [
      "/opt/conda/lib/python3.6/site-packages/pandas/io/excel.py:329: FutureWarning: The `sheetname` keyword is deprecated, use `sheet_name` instead\n",
      "  **kwds)\n"
     ]
    }
   ],
   "source": [
    "##read base file.\n",
    "Base_df=pd.read_csv('/home/jovyan/Property_proj/Data/2016_Census_NSW_suburbs/2016_Census_NSW_suburbs/2016Census_G02_NSW_SSC.csv')\n",
    "##read data file\n",
    "df=pd.read_csv('/home/jovyan/Property_proj/Data/2016_Census_NSW_suburbs/2016_Census_NSW_suburbs/2016Census_G53A_NSW_SSC.csv')\n",
    "##read meta data(suburb code to name mapping)\n",
    "df_ref_data = pd.read_excel('/home/jovyan/Property_proj/Data/2016_Census_NSW_suburbs/Metadata/2016Census_geog_desc_1st_and_2nd_release.xlsx', index_col=None,\n",
    "                  sheetname ='2016_ASGS_Non-ABS_Structures')"
   ]
  },
  {
   "cell_type": "markdown",
   "metadata": {},
   "source": [
    "# Step 5: Religion"
   ]
  },
  {
   "cell_type": "code",
   "execution_count": 4,
   "metadata": {},
   "outputs": [],
   "source": [
    "rel_df=pd.read_csv('/home/jovyan/Property_proj/Data/2016_Census_NSW_suburbs/2016_Census_NSW_suburbs/2016Census_G14_NSW_SSC.csv')"
   ]
  },
  {
   "cell_type": "code",
   "execution_count": 88,
   "metadata": {},
   "outputs": [],
   "source": [
    "#rel_df.set_index('SSC_CODE_2016')"
   ]
  },
  {
   "cell_type": "code",
   "execution_count": null,
   "metadata": {},
   "outputs": [],
   "source": []
  },
  {
   "cell_type": "code",
   "execution_count": 5,
   "metadata": {},
   "outputs": [],
   "source": [
    "rel_df.set_index('SSC_CODE_2016')\n",
    "a=rel_df\n",
    "\n",
    "lst= [i for i in rel_df.columns if i.endswith(\"_P\")]\n",
    "\n",
    "df_rel_total =a[[\"SSC_CODE_2016\"] + lst]"
   ]
  },
  {
   "cell_type": "code",
   "execution_count": null,
   "metadata": {},
   "outputs": [],
   "source": []
  },
  {
   "cell_type": "code",
   "execution_count": 30,
   "metadata": {},
   "outputs": [],
   "source": [
    "##rel_df=rel_df.drop('Tot_F',1)\n",
    "#rel_df=rel_df.drop('Tot_M',1)\n",
    "#rel_df=rel_df.drop('Tot_P',1)\n",
    "\n",
    "df_rel_total1= df_rel_total[['SSC_CODE_2016','Christianity_Tot_P', 'Hinduism_P', 'Islam_P', 'Judaism_P',\n",
    "       'Othr_Rel_Aust_Abor_Trad_Rel_P', \n",
    "       'Othr_Reln_Other_reln_groups_P', 'Other_Religions_Tot_P',\n",
    "       'SB_OSB_NRA_Tot_P', 'Religious_affiliation_ns_P']]"
   ]
  },
  {
   "cell_type": "code",
   "execution_count": 31,
   "metadata": {},
   "outputs": [
    {
     "data": {
      "text/html": [
       "<div>\n",
       "<style scoped>\n",
       "    .dataframe tbody tr th:only-of-type {\n",
       "        vertical-align: middle;\n",
       "    }\n",
       "\n",
       "    .dataframe tbody tr th {\n",
       "        vertical-align: top;\n",
       "    }\n",
       "\n",
       "    .dataframe thead th {\n",
       "        text-align: right;\n",
       "    }\n",
       "</style>\n",
       "<table border=\"1\" class=\"dataframe\">\n",
       "  <thead>\n",
       "    <tr style=\"text-align: right;\">\n",
       "      <th></th>\n",
       "      <th>SSC_CODE_2016</th>\n",
       "      <th>Christianity_Tot_P</th>\n",
       "      <th>Hinduism_P</th>\n",
       "      <th>Islam_P</th>\n",
       "      <th>Judaism_P</th>\n",
       "      <th>Othr_Rel_Aust_Abor_Trad_Rel_P</th>\n",
       "      <th>Othr_Reln_Other_reln_groups_P</th>\n",
       "      <th>Other_Religions_Tot_P</th>\n",
       "      <th>SB_OSB_NRA_Tot_P</th>\n",
       "      <th>Religious_affiliation_ns_P</th>\n",
       "    </tr>\n",
       "  </thead>\n",
       "  <tbody>\n",
       "    <tr>\n",
       "      <th>3155</th>\n",
       "      <td>SSC13156</td>\n",
       "      <td>6305.0</td>\n",
       "      <td>7353.0</td>\n",
       "      <td>1605.0</td>\n",
       "      <td>12.0</td>\n",
       "      <td>3.0</td>\n",
       "      <td>240.0</td>\n",
       "      <td>854.0</td>\n",
       "      <td>5617.0</td>\n",
       "      <td>2977.0</td>\n",
       "    </tr>\n",
       "  </tbody>\n",
       "</table>\n",
       "</div>"
      ],
      "text/plain": [
       "     SSC_CODE_2016  Christianity_Tot_P  Hinduism_P  Islam_P  Judaism_P  \\\n",
       "3155      SSC13156              6305.0      7353.0   1605.0       12.0   \n",
       "\n",
       "      Othr_Rel_Aust_Abor_Trad_Rel_P  Othr_Reln_Other_reln_groups_P  \\\n",
       "3155                            3.0                          240.0   \n",
       "\n",
       "      Other_Religions_Tot_P  SB_OSB_NRA_Tot_P  Religious_affiliation_ns_P  \n",
       "3155                  854.0            5617.0                      2977.0  "
      ]
     },
     "execution_count": 31,
     "metadata": {},
     "output_type": "execute_result"
    }
   ],
   "source": [
    "df_rel_total1.where(df_rel_total1['SSC_CODE_2016'] =='SSC13156').dropna()"
   ]
  },
  {
   "cell_type": "code",
   "execution_count": 32,
   "metadata": {},
   "outputs": [],
   "source": [
    "df_rel_total1.columns=['SSC_CODE_2016','Christianity', 'Hinduism', 'Islam', 'Judaism',\n",
    "       'Aborginal_Traditional_Rel', \n",
    "       'Othr_Reln_Other_reln_groups_P', 'Other_Religions',\n",
    "       'Secular_Beliefs_and_No_Religious_Affiliation', 'Religious_affiliation_ns_P']"
   ]
  },
  {
   "cell_type": "markdown",
   "metadata": {},
   "source": [
    "### Final DF with religious information of people in each suburbs"
   ]
  },
  {
   "cell_type": "code",
   "execution_count": 36,
   "metadata": {},
   "outputs": [
    {
     "data": {
      "text/plain": [
       "SSC_CODE_2016                                   4526\n",
       "Christianity                                    4526\n",
       "Hinduism                                        4526\n",
       "Islam                                           4526\n",
       "Judaism                                         4526\n",
       "Aborginal_Traditional_Rel                       4526\n",
       "Othr_Reln_Other_reln_groups_P                   4526\n",
       "Other_Religions                                 4526\n",
       "Secular_Beliefs_and_No_Religious_Affiliation    4526\n",
       "Religious_affiliation_ns_P                      4526\n",
       "dtype: int64"
      ]
     },
     "execution_count": 36,
     "metadata": {},
     "output_type": "execute_result"
    }
   ],
   "source": [
    "df_rel_total1.count()"
   ]
  },
  {
   "cell_type": "code",
   "execution_count": null,
   "metadata": {},
   "outputs": [],
   "source": []
  },
  {
   "cell_type": "code",
   "execution_count": null,
   "metadata": {},
   "outputs": [],
   "source": []
  },
  {
   "cell_type": "code",
   "execution_count": null,
   "metadata": {},
   "outputs": [],
   "source": []
  },
  {
   "cell_type": "code",
   "execution_count": null,
   "metadata": {},
   "outputs": [],
   "source": []
  },
  {
   "cell_type": "code",
   "execution_count": null,
   "metadata": {},
   "outputs": [],
   "source": []
  }
 ],
 "metadata": {
  "kernelspec": {
   "display_name": "Python 3",
   "language": "python",
   "name": "python3"
  },
  "language_info": {
   "codemirror_mode": {
    "name": "ipython",
    "version": 3
   },
   "file_extension": ".py",
   "mimetype": "text/x-python",
   "name": "python",
   "nbconvert_exporter": "python",
   "pygments_lexer": "ipython3",
   "version": "3.6.6"
  }
 },
 "nbformat": 4,
 "nbformat_minor": 2
}
