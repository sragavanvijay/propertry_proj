{
 "cells": [
  {
   "cell_type": "code",
   "execution_count": 83,
   "metadata": {},
   "outputs": [],
   "source": [
    "import pandas as pd\n",
    "import os\n",
    "import fnmatch"
   ]
  },
  {
   "cell_type": "code",
   "execution_count": 84,
   "metadata": {},
   "outputs": [
    {
     "name": "stderr",
     "output_type": "stream",
     "text": [
      "/opt/conda/lib/python3.6/site-packages/pandas/io/excel.py:329: FutureWarning: The `sheetname` keyword is deprecated, use `sheet_name` instead\n",
      "  **kwds)\n"
     ]
    }
   ],
   "source": [
    "##read base file.\n",
    "Base_df=pd.read_csv('/home/jovyan/Property_proj/Data/2016_GCP_SSC_for_NSW_short-header/2016_Census_NSW_suburbs/2016Census_G02_NSW_SSC.csv')\n",
    "##read data file\n",
    "df=pd.read_csv('/home/jovyan/Property_proj/Data/2016_GCP_SSC_for_NSW_short-header/2016_Census_NSW_suburbs/2016Census_G53A_NSW_SSC.csv')\n",
    "##read meta data(suburb code to name mapping)\n",
    "df_ref_data = pd.read_excel('/home/jovyan/Property_proj/Data/2016_GCP_SSC_for_NSW_short-header/Metadata/2016Census_geog_desc_1st_and_2nd_release.xlsx', index_col=None,\n",
    "                  sheetname ='2016_ASGS_Non-ABS_Structures')"
   ]
  },
  {
   "cell_type": "markdown",
   "metadata": {},
   "source": [
    "# Step 5: Religion"
   ]
  },
  {
   "cell_type": "code",
   "execution_count": 85,
   "metadata": {},
   "outputs": [],
   "source": [
    "rel_df=pd.read_csv('/home/jovyan/Property_proj/Data/2016_GCP_SSC_for_NSW_short-header/2016_Census_NSW_suburbs/2016Census_G14_NSW_SSC.csv')"
   ]
  },
  {
   "cell_type": "code",
   "execution_count": 88,
   "metadata": {},
   "outputs": [],
   "source": [
    "#rel_df.set_index('SSC_CODE_2016')"
   ]
  },
  {
   "cell_type": "code",
   "execution_count": 92,
   "metadata": {},
   "outputs": [
    {
     "ename": "SyntaxError",
     "evalue": "invalid syntax (<ipython-input-92-fe85ca9fb64c>, line 5)",
     "output_type": "error",
     "traceback": [
      "\u001b[0;36m  File \u001b[0;32m\"<ipython-input-92-fe85ca9fb64c>\"\u001b[0;36m, line \u001b[0;32m5\u001b[0m\n\u001b[0;31m    if name.endswith('_P')\u001b[0m\n\u001b[0m                          ^\u001b[0m\n\u001b[0;31mSyntaxError\u001b[0m\u001b[0;31m:\u001b[0m invalid syntax\n"
     ]
    }
   ],
   "source": [
    "#rel_df.set_index('SSC_CODE_2016')\n",
    "a=rel_df.columns.values\n",
    "\n",
    "for name in a:\n",
    "    if name.endswith('_P')\n",
    "        \n",
    "a = rel_df.select(lambda rel_df: rel_df.endswith('_P'), axis=0)\n",
    "a"
   ]
  },
  {
   "cell_type": "code",
   "execution_count": 65,
   "metadata": {},
   "outputs": [
    {
     "data": {
      "text/html": [
       "<div>\n",
       "<style scoped>\n",
       "    .dataframe tbody tr th:only-of-type {\n",
       "        vertical-align: middle;\n",
       "    }\n",
       "\n",
       "    .dataframe tbody tr th {\n",
       "        vertical-align: top;\n",
       "    }\n",
       "\n",
       "    .dataframe thead th {\n",
       "        text-align: right;\n",
       "    }\n",
       "</style>\n",
       "<table border=\"1\" class=\"dataframe\">\n",
       "  <thead>\n",
       "    <tr style=\"text-align: right;\">\n",
       "      <th></th>\n",
       "      <th>Buddhism_P</th>\n",
       "      <th>Christianity_Anglican_P</th>\n",
       "      <th>Christianity_Asyrin_Apstlic_P</th>\n",
       "      <th>Christianity_Baptist_P</th>\n",
       "      <th>Christianity_Brethren_P</th>\n",
       "      <th>Christianity_Catholic_P</th>\n",
       "      <th>Christianity_Church_Christ_P</th>\n",
       "      <th>Christianity_Eastrn_Orthdox_P</th>\n",
       "      <th>Christinty_Jehvahs_Witnses_P</th>\n",
       "      <th>Christianity_Lattr_day_Snts_P</th>\n",
       "      <th>...</th>\n",
       "      <th>Othr_Rel_Aust_Abor_Trad_Rel_P</th>\n",
       "      <th>Othr_Rel_Sikhism_P</th>\n",
       "      <th>Othr_Reln_Other_reln_groups_P</th>\n",
       "      <th>Other_Religions_Tot_P</th>\n",
       "      <th>SB_OSB_NRA_NR_P</th>\n",
       "      <th>SB_OSB_NRA_SB_P</th>\n",
       "      <th>SB_OSB_NRA_OSB_P</th>\n",
       "      <th>SB_OSB_NRA_Tot_P</th>\n",
       "      <th>Religious_affiliation_ns_P</th>\n",
       "      <th>Tot_P</th>\n",
       "    </tr>\n",
       "  </thead>\n",
       "  <tbody>\n",
       "    <tr>\n",
       "      <th>0</th>\n",
       "      <td>0</td>\n",
       "      <td>15</td>\n",
       "      <td>0</td>\n",
       "      <td>0</td>\n",
       "      <td>0</td>\n",
       "      <td>4</td>\n",
       "      <td>0</td>\n",
       "      <td>0</td>\n",
       "      <td>0</td>\n",
       "      <td>0</td>\n",
       "      <td>...</td>\n",
       "      <td>0</td>\n",
       "      <td>0</td>\n",
       "      <td>0</td>\n",
       "      <td>0</td>\n",
       "      <td>3</td>\n",
       "      <td>0</td>\n",
       "      <td>0</td>\n",
       "      <td>3</td>\n",
       "      <td>3</td>\n",
       "      <td>22</td>\n",
       "    </tr>\n",
       "    <tr>\n",
       "      <th>1</th>\n",
       "      <td>165</td>\n",
       "      <td>198</td>\n",
       "      <td>184</td>\n",
       "      <td>49</td>\n",
       "      <td>0</td>\n",
       "      <td>2379</td>\n",
       "      <td>0</td>\n",
       "      <td>284</td>\n",
       "      <td>7</td>\n",
       "      <td>6</td>\n",
       "      <td>...</td>\n",
       "      <td>0</td>\n",
       "      <td>0</td>\n",
       "      <td>31</td>\n",
       "      <td>29</td>\n",
       "      <td>297</td>\n",
       "      <td>3</td>\n",
       "      <td>0</td>\n",
       "      <td>302</td>\n",
       "      <td>166</td>\n",
       "      <td>4253</td>\n",
       "    </tr>\n",
       "    <tr>\n",
       "      <th>2</th>\n",
       "      <td>104</td>\n",
       "      <td>549</td>\n",
       "      <td>7</td>\n",
       "      <td>32</td>\n",
       "      <td>0</td>\n",
       "      <td>2070</td>\n",
       "      <td>3</td>\n",
       "      <td>261</td>\n",
       "      <td>10</td>\n",
       "      <td>5</td>\n",
       "      <td>...</td>\n",
       "      <td>0</td>\n",
       "      <td>3</td>\n",
       "      <td>19</td>\n",
       "      <td>22</td>\n",
       "      <td>1270</td>\n",
       "      <td>10</td>\n",
       "      <td>10</td>\n",
       "      <td>1286</td>\n",
       "      <td>506</td>\n",
       "      <td>5373</td>\n",
       "    </tr>\n",
       "    <tr>\n",
       "      <th>3</th>\n",
       "      <td>4</td>\n",
       "      <td>221</td>\n",
       "      <td>0</td>\n",
       "      <td>27</td>\n",
       "      <td>18</td>\n",
       "      <td>379</td>\n",
       "      <td>0</td>\n",
       "      <td>0</td>\n",
       "      <td>12</td>\n",
       "      <td>0</td>\n",
       "      <td>...</td>\n",
       "      <td>0</td>\n",
       "      <td>0</td>\n",
       "      <td>0</td>\n",
       "      <td>0</td>\n",
       "      <td>204</td>\n",
       "      <td>7</td>\n",
       "      <td>0</td>\n",
       "      <td>213</td>\n",
       "      <td>89</td>\n",
       "      <td>1109</td>\n",
       "    </tr>\n",
       "    <tr>\n",
       "      <th>4</th>\n",
       "      <td>0</td>\n",
       "      <td>3</td>\n",
       "      <td>0</td>\n",
       "      <td>0</td>\n",
       "      <td>0</td>\n",
       "      <td>0</td>\n",
       "      <td>0</td>\n",
       "      <td>0</td>\n",
       "      <td>0</td>\n",
       "      <td>0</td>\n",
       "      <td>...</td>\n",
       "      <td>0</td>\n",
       "      <td>0</td>\n",
       "      <td>0</td>\n",
       "      <td>0</td>\n",
       "      <td>15</td>\n",
       "      <td>0</td>\n",
       "      <td>0</td>\n",
       "      <td>15</td>\n",
       "      <td>3</td>\n",
       "      <td>22</td>\n",
       "    </tr>\n",
       "  </tbody>\n",
       "</table>\n",
       "<p>5 rows × 34 columns</p>\n",
       "</div>"
      ],
      "text/plain": [
       "   Buddhism_P  Christianity_Anglican_P  Christianity_Asyrin_Apstlic_P  \\\n",
       "0           0                       15                              0   \n",
       "1         165                      198                            184   \n",
       "2         104                      549                              7   \n",
       "3           4                      221                              0   \n",
       "4           0                        3                              0   \n",
       "\n",
       "   Christianity_Baptist_P  Christianity_Brethren_P  Christianity_Catholic_P  \\\n",
       "0                       0                        0                        4   \n",
       "1                      49                        0                     2379   \n",
       "2                      32                        0                     2070   \n",
       "3                      27                       18                      379   \n",
       "4                       0                        0                        0   \n",
       "\n",
       "   Christianity_Church_Christ_P  Christianity_Eastrn_Orthdox_P  \\\n",
       "0                             0                              0   \n",
       "1                             0                            284   \n",
       "2                             3                            261   \n",
       "3                             0                              0   \n",
       "4                             0                              0   \n",
       "\n",
       "   Christinty_Jehvahs_Witnses_P  Christianity_Lattr_day_Snts_P  ...    \\\n",
       "0                             0                              0  ...     \n",
       "1                             7                              6  ...     \n",
       "2                            10                              5  ...     \n",
       "3                            12                              0  ...     \n",
       "4                             0                              0  ...     \n",
       "\n",
       "   Othr_Rel_Aust_Abor_Trad_Rel_P  Othr_Rel_Sikhism_P  \\\n",
       "0                              0                   0   \n",
       "1                              0                   0   \n",
       "2                              0                   3   \n",
       "3                              0                   0   \n",
       "4                              0                   0   \n",
       "\n",
       "   Othr_Reln_Other_reln_groups_P  Other_Religions_Tot_P  SB_OSB_NRA_NR_P  \\\n",
       "0                              0                      0                3   \n",
       "1                             31                     29              297   \n",
       "2                             19                     22             1270   \n",
       "3                              0                      0              204   \n",
       "4                              0                      0               15   \n",
       "\n",
       "   SB_OSB_NRA_SB_P  SB_OSB_NRA_OSB_P  SB_OSB_NRA_Tot_P  \\\n",
       "0                0                 0                 3   \n",
       "1                3                 0               302   \n",
       "2               10                10              1286   \n",
       "3                7                 0               213   \n",
       "4                0                 0                15   \n",
       "\n",
       "   Religious_affiliation_ns_P  Tot_P  \n",
       "0                           3     22  \n",
       "1                         166   4253  \n",
       "2                         506   5373  \n",
       "3                          89   1109  \n",
       "4                           3     22  \n",
       "\n",
       "[5 rows x 34 columns]"
      ]
     },
     "execution_count": 65,
     "metadata": {},
     "output_type": "execute_result"
    }
   ],
   "source": [
    "rel_df.head()"
   ]
  },
  {
   "cell_type": "code",
   "execution_count": 51,
   "metadata": {},
   "outputs": [
    {
     "data": {
      "text/plain": [
       "Index(['Buddhism_P', 'Christianity_Anglican_P',\n",
       "       'Christianity_Asyrin_Apstlic_P', 'Christianity_Baptist_P',\n",
       "       'Christianity_Brethren_P', 'Christianity_Catholic_P',\n",
       "       'Christianity_Church_Christ_P', 'Christianity_Eastrn_Orthdox_P',\n",
       "       'Christinty_Jehvahs_Witnses_P', 'Christianity_Lattr_day_Snts_P',\n",
       "       'Christianity_Lutheran_P', 'Christianity_Orintal_Orthdx_P',\n",
       "       'Christianity_Othr_Protestnt_M', 'Christianity_Othr_Protestnt_F',\n",
       "       'Christianity_Othr_Protestnt_P', 'Christianity_Pentecostal_M',\n",
       "       'Christianity_Pentecostal_F', 'Christianity_Pentecostal_P',\n",
       "       'Christinty_Prsbytrin_Refrmd_M', 'Christinty_Prsbytrin_Refrmd_F',\n",
       "       'Christinty_Prsbytrin_Refrmd_P', 'Christianity_Salvation_Army_P',\n",
       "       'Christnty_Sevnth_dy_Advntst_P', 'Christianity_Uniting_Church_P',\n",
       "       'Christianity_Christian_nfd_P', 'Christianity_Othr_Christian_P',\n",
       "       'Christianity_Tot_P', 'Hinduism_P', 'Islam_P', 'Judaism_P',\n",
       "       'Othr_Rel_Aust_Abor_Trad_Rel_P', 'Othr_Rel_Sikhism_P',\n",
       "       'Othr_Reln_Other_reln_groups_P', 'Other_Religions_Tot_P',\n",
       "       'SB_OSB_NRA_NR_P', 'SB_OSB_NRA_SB_P', 'SB_OSB_NRA_OSB_P',\n",
       "       'SB_OSB_NRA_Tot_P', 'Religious_affiliation_ns_P'],\n",
       "      dtype='object')"
      ]
     },
     "execution_count": 51,
     "metadata": {},
     "output_type": "execute_result"
    }
   ],
   "source": [
    "##rel_df=rel_df.drop('Tot_F',1)\n",
    "#rel_df=rel_df.drop('Tot_M',1)\n",
    "#rel_df=rel_df.drop('Tot_P',1)\n",
    "\n",
    "rel_df.columns"
   ]
  },
  {
   "cell_type": "code",
   "execution_count": 52,
   "metadata": {},
   "outputs": [
    {
     "name": "stderr",
     "output_type": "stream",
     "text": [
      "/opt/conda/lib/python3.6/site-packages/ipykernel_launcher.py:1: DeprecationWarning: \n",
      ".ix is deprecated. Please use\n",
      ".loc for label based indexing or\n",
      ".iloc for positional indexing\n",
      "\n",
      "See the documentation here:\n",
      "http://pandas.pydata.org/pandas-docs/stable/indexing.html#ix-indexer-is-deprecated\n",
      "  \"\"\"Entry point for launching an IPython kernel.\n"
     ]
    }
   ],
   "source": [
    "df5 = df.select(lambda col: col.startswith('d'), axis=1)\n"
   ]
  },
  {
   "cell_type": "code",
   "execution_count": null,
   "metadata": {},
   "outputs": [],
   "source": [
    "\n"
   ]
  },
  {
   "cell_type": "code",
   "execution_count": null,
   "metadata": {},
   "outputs": [],
   "source": []
  }
 ],
 "metadata": {
  "kernelspec": {
   "display_name": "Python 3",
   "language": "python",
   "name": "python3"
  },
  "language_info": {
   "codemirror_mode": {
    "name": "ipython",
    "version": 3
   },
   "file_extension": ".py",
   "mimetype": "text/x-python",
   "name": "python",
   "nbconvert_exporter": "python",
   "pygments_lexer": "ipython3",
   "version": "3.6.6"
  }
 },
 "nbformat": 4,
 "nbformat_minor": 2
}
