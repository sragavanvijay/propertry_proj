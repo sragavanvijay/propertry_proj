{
 "cells": [
  {
   "cell_type": "code",
   "execution_count": 49,
   "metadata": {},
   "outputs": [
    {
     "name": "stdout",
     "output_type": "stream",
     "text": [
      "Collecting pyshp\n",
      "\u001b[?25l  Downloading https://files.pythonhosted.org/packages/08/3e/3bda7dfdbee0d7a22d38443f5cc8d154ff6d4701e615f4c07bf1ed003563/pyshp-2.0.1.tar.gz (214kB)\n",
      "\u001b[K    100% |████████████████████████████████| 215kB 852kB/s ta 0:00:01\n",
      "\u001b[?25hBuilding wheels for collected packages: pyshp\n",
      "  Running setup.py bdist_wheel for pyshp ... \u001b[?25ldone\n",
      "\u001b[?25h  Stored in directory: /home/jovyan/.cache/pip/wheels/cc/e8/7c/f00fc95ae2a16ed41be9defdd647213a334fd12e03b1452c26\n",
      "Successfully built pyshp\n",
      "Installing collected packages: pyshp\n",
      "Successfully installed pyshp-2.0.1\n",
      "Collecting Basemap\n",
      "\u001b[31m  Could not find a version that satisfies the requirement Basemap (from versions: )\u001b[0m\n",
      "\u001b[31mNo matching distribution found for Basemap\u001b[0m\n"
     ]
    }
   ],
   "source": [
    "import pandas as pd\n",
    "#! pip install fiona\n",
    "! pip install pyshp\n",
    "! pip install Basemap"
   ]
  },
  {
   "cell_type": "markdown",
   "metadata": {},
   "source": [
    "# Step:1"
   ]
  },
  {
   "cell_type": "code",
   "execution_count": 2,
   "metadata": {},
   "outputs": [
    {
     "name": "stdout",
     "output_type": "stream",
     "text": [
      "ls: cannot access '/home/jovyan/Property_proj/Data/2016_GCP_SSC_for_NSW_short-header/Metadata/2016Census_geog_desc_1st_and_2nd_release.xlsx': No such file or directory\r\n"
     ]
    }
   ],
   "source": [
    "!ls /home/jovyan/Property_proj/Data/2016_GCP_SSC_for_NSW_short-header/Metadata/2016Census_geog_desc_1st_and_2nd_release.xlsx"
   ]
  },
  {
   "cell_type": "code",
   "execution_count": 106,
   "metadata": {},
   "outputs": [
    {
     "name": "stderr",
     "output_type": "stream",
     "text": [
      "/opt/conda/lib/python3.6/site-packages/pandas/io/excel.py:329: FutureWarning: The `sheetname` keyword is deprecated, use `sheet_name` instead\n",
      "  **kwds)\n"
     ]
    }
   ],
   "source": [
    "##read data file\n",
    "df=pd.read_csv('/home/jovyan/Property_proj/Data/2016_Census_NSW_Suburbs/2016_Census_NSW_suburbs/2016Census_G02_NSW_SSC.csv')\n",
    "##read meta data(suburb code to name mapping)\n",
    "df_ref_data = pd.read_excel('/home/jovyan/Property_proj/Data/2016_Census_NSW_Suburbs/Metadata/2016Census_geog_desc_1st_and_2nd_release.xlsx', index_col=None,\n",
    "                  sheetname ='2016_ASGS_Non-ABS_Structures')"
   ]
  },
  {
   "cell_type": "code",
   "execution_count": 84,
   "metadata": {},
   "outputs": [
    {
     "data": {
      "text/html": [
       "<div>\n",
       "<style scoped>\n",
       "    .dataframe tbody tr th:only-of-type {\n",
       "        vertical-align: middle;\n",
       "    }\n",
       "\n",
       "    .dataframe tbody tr th {\n",
       "        vertical-align: top;\n",
       "    }\n",
       "\n",
       "    .dataframe thead th {\n",
       "        text-align: right;\n",
       "    }\n",
       "</style>\n",
       "<table border=\"1\" class=\"dataframe\">\n",
       "  <thead>\n",
       "    <tr style=\"text-align: right;\">\n",
       "      <th></th>\n",
       "      <th>SSC_CODE_2016</th>\n",
       "      <th>Median_age_persons</th>\n",
       "      <th>Median_mortgage_repay_monthly</th>\n",
       "      <th>Median_tot_prsnl_inc_weekly</th>\n",
       "      <th>Median_rent_weekly</th>\n",
       "      <th>Median_tot_fam_inc_weekly</th>\n",
       "      <th>Average_num_psns_per_bedroom</th>\n",
       "      <th>Median_tot_hhd_inc_weekly</th>\n",
       "      <th>Average_household_size</th>\n",
       "    </tr>\n",
       "  </thead>\n",
       "  <tbody>\n",
       "    <tr>\n",
       "      <th>0</th>\n",
       "      <td>SSC10001</td>\n",
       "      <td>50</td>\n",
       "      <td>0</td>\n",
       "      <td>575</td>\n",
       "      <td>0</td>\n",
       "      <td>1375</td>\n",
       "      <td>0.40</td>\n",
       "      <td>949</td>\n",
       "      <td>1.40</td>\n",
       "    </tr>\n",
       "    <tr>\n",
       "      <th>1</th>\n",
       "      <td>SSC10002</td>\n",
       "      <td>38</td>\n",
       "      <td>2167</td>\n",
       "      <td>721</td>\n",
       "      <td>505</td>\n",
       "      <td>2175</td>\n",
       "      <td>0.90</td>\n",
       "      <td>2171</td>\n",
       "      <td>3.50</td>\n",
       "    </tr>\n",
       "    <tr>\n",
       "      <th>2</th>\n",
       "      <td>SSC10003</td>\n",
       "      <td>45</td>\n",
       "      <td>2600</td>\n",
       "      <td>965</td>\n",
       "      <td>520</td>\n",
       "      <td>2489</td>\n",
       "      <td>0.90</td>\n",
       "      <td>2006</td>\n",
       "      <td>2.30</td>\n",
       "    </tr>\n",
       "    <tr>\n",
       "      <th>3</th>\n",
       "      <td>SSC10004</td>\n",
       "      <td>36</td>\n",
       "      <td>1733</td>\n",
       "      <td>813</td>\n",
       "      <td>370</td>\n",
       "      <td>2200</td>\n",
       "      <td>0.80</td>\n",
       "      <td>2006</td>\n",
       "      <td>3.10</td>\n",
       "    </tr>\n",
       "    <tr>\n",
       "      <th>4</th>\n",
       "      <td>SSC10005</td>\n",
       "      <td>55</td>\n",
       "      <td>0</td>\n",
       "      <td>449</td>\n",
       "      <td>0</td>\n",
       "      <td>900</td>\n",
       "      <td>0.70</td>\n",
       "      <td>833</td>\n",
       "      <td>1.60</td>\n",
       "    </tr>\n",
       "  </tbody>\n",
       "</table>\n",
       "</div>"
      ],
      "text/plain": [
       "  SSC_CODE_2016  Median_age_persons  Median_mortgage_repay_monthly  \\\n",
       "0      SSC10001                  50                              0   \n",
       "1      SSC10002                  38                           2167   \n",
       "2      SSC10003                  45                           2600   \n",
       "3      SSC10004                  36                           1733   \n",
       "4      SSC10005                  55                              0   \n",
       "\n",
       "   Median_tot_prsnl_inc_weekly  Median_rent_weekly  Median_tot_fam_inc_weekly  \\\n",
       "0                          575                   0                       1375   \n",
       "1                          721                 505                       2175   \n",
       "2                          965                 520                       2489   \n",
       "3                          813                 370                       2200   \n",
       "4                          449                   0                        900   \n",
       "\n",
       "   Average_num_psns_per_bedroom  Median_tot_hhd_inc_weekly  \\\n",
       "0                          0.40                        949   \n",
       "1                          0.90                       2171   \n",
       "2                          0.90                       2006   \n",
       "3                          0.80                       2006   \n",
       "4                          0.70                        833   \n",
       "\n",
       "   Average_household_size  \n",
       "0                    1.40  \n",
       "1                    3.50  \n",
       "2                    2.30  \n",
       "3                    3.10  \n",
       "4                    1.60  "
      ]
     },
     "execution_count": 84,
     "metadata": {},
     "output_type": "execute_result"
    }
   ],
   "source": []
  },
  {
   "cell_type": "code",
   "execution_count": 87,
   "metadata": {},
   "outputs": [],
   "source": [
    "#df=df.drop_duplicates(subset='SSC_CODE_2016', keep=False)\n",
    "merged = pd.merge(df, df_ref_data, left_on='SSC_CODE_2016', right_on='Census_Code_2016', how='left')"
   ]
  },
  {
   "cell_type": "code",
   "execution_count": 85,
   "metadata": {},
   "outputs": [],
   "source": [
    "#merged.where(merged['SSC_CODE_2016'] =='SSC13156').dropna()"
   ]
  },
  {
   "cell_type": "markdown",
   "metadata": {},
   "source": [
    "# Df with basic aggrigated information\n",
    "####  Median_age_persons, Median_mortgage_repay_monthly, Median_tot_prsnl_inc_weekly, Median_rent_weekly, Median_tot_fam_inc_weekly, Average_num_psns_per_bedroom, Median_tot_hhd_inc_weekly, Average_household_size\n"
   ]
  },
  {
   "cell_type": "code",
   "execution_count": 90,
   "metadata": {},
   "outputs": [
    {
     "data": {
      "text/plain": [
       "Index(['SSC_CODE_2016', 'Census_Name_2016', 'Median_age_persons',\n",
       "       'Median_mortgage_repay_monthly', 'Median_tot_prsnl_inc_weekly',\n",
       "       'Median_rent_weekly', 'Median_tot_fam_inc_weekly',\n",
       "       'Average_num_psns_per_bedroom', 'Median_tot_hhd_inc_weekly',\n",
       "       'Average_household_size'],\n",
       "      dtype='object')"
      ]
     },
     "execution_count": 90,
     "metadata": {},
     "output_type": "execute_result"
    }
   ],
   "source": [
    "df_aggrigated_info=merged[['SSC_CODE_2016','Census_Name_2016', 'Median_age_persons', 'Median_mortgage_repay_monthly',\n",
    "       'Median_tot_prsnl_inc_weekly', 'Median_rent_weekly',\n",
    "       'Median_tot_fam_inc_weekly', 'Average_num_psns_per_bedroom',\n",
    "       'Median_tot_hhd_inc_weekly', 'Average_household_size']]\n",
    "\n",
    "\n",
    "merged_selected.columns"
   ]
  },
  {
   "cell_type": "code",
   "execution_count": 92,
   "metadata": {},
   "outputs": [],
   "source": [
    "df_aggrigated_info.to_csv(\"aggrigated_info.csv\")"
   ]
  },
  {
   "cell_type": "markdown",
   "metadata": {},
   "source": [
    "# Step: 2"
   ]
  },
  {
   "cell_type": "code",
   "execution_count": 93,
   "metadata": {
    "scrolled": true
   },
   "outputs": [
    {
     "data": {
      "text/html": [
       "<div>\n",
       "<style scoped>\n",
       "    .dataframe tbody tr th:only-of-type {\n",
       "        vertical-align: middle;\n",
       "    }\n",
       "\n",
       "    .dataframe tbody tr th {\n",
       "        vertical-align: top;\n",
       "    }\n",
       "\n",
       "    .dataframe thead th {\n",
       "        text-align: right;\n",
       "    }\n",
       "</style>\n",
       "<table border=\"1\" class=\"dataframe\">\n",
       "  <thead>\n",
       "    <tr style=\"text-align: right;\">\n",
       "      <th></th>\n",
       "      <th>Canada_Tot</th>\n",
       "      <th>China_exc_SARs_Taiwan_Tot</th>\n",
       "      <th>Croatia_Tot</th>\n",
       "      <th>Egypt_Tot</th>\n",
       "      <th>Fiji_Tot</th>\n",
       "      <th>Germany_Tot</th>\n",
       "      <th>Greece_Tot</th>\n",
       "      <th>Hong_Kong_SAR_China_Tot</th>\n",
       "      <th>India_Tot</th>\n",
       "      <th>Indonesia_Tot</th>\n",
       "      <th>Iran_Tot</th>\n",
       "      <th>Iraq_Tot</th>\n",
       "    </tr>\n",
       "    <tr>\n",
       "      <th>SSC_CODE_2016</th>\n",
       "      <th></th>\n",
       "      <th></th>\n",
       "      <th></th>\n",
       "      <th></th>\n",
       "      <th></th>\n",
       "      <th></th>\n",
       "      <th></th>\n",
       "      <th></th>\n",
       "      <th></th>\n",
       "      <th></th>\n",
       "      <th></th>\n",
       "      <th></th>\n",
       "    </tr>\n",
       "  </thead>\n",
       "  <tbody>\n",
       "    <tr>\n",
       "      <th>SSC10001</th>\n",
       "      <td>0</td>\n",
       "      <td>0</td>\n",
       "      <td>0</td>\n",
       "      <td>0</td>\n",
       "      <td>0</td>\n",
       "      <td>0</td>\n",
       "      <td>0</td>\n",
       "      <td>0</td>\n",
       "      <td>0</td>\n",
       "      <td>0</td>\n",
       "      <td>0</td>\n",
       "      <td>0</td>\n",
       "    </tr>\n",
       "    <tr>\n",
       "      <th>SSC10002</th>\n",
       "      <td>3</td>\n",
       "      <td>30</td>\n",
       "      <td>59</td>\n",
       "      <td>20</td>\n",
       "      <td>31</td>\n",
       "      <td>8</td>\n",
       "      <td>17</td>\n",
       "      <td>6</td>\n",
       "      <td>12</td>\n",
       "      <td>5</td>\n",
       "      <td>48</td>\n",
       "      <td>297</td>\n",
       "    </tr>\n",
       "    <tr>\n",
       "      <th>SSC10003</th>\n",
       "      <td>7</td>\n",
       "      <td>165</td>\n",
       "      <td>12</td>\n",
       "      <td>17</td>\n",
       "      <td>6</td>\n",
       "      <td>20</td>\n",
       "      <td>30</td>\n",
       "      <td>47</td>\n",
       "      <td>23</td>\n",
       "      <td>16</td>\n",
       "      <td>13</td>\n",
       "      <td>3</td>\n",
       "    </tr>\n",
       "    <tr>\n",
       "      <th>SSC10004</th>\n",
       "      <td>3</td>\n",
       "      <td>6</td>\n",
       "      <td>0</td>\n",
       "      <td>0</td>\n",
       "      <td>4</td>\n",
       "      <td>3</td>\n",
       "      <td>0</td>\n",
       "      <td>0</td>\n",
       "      <td>4</td>\n",
       "      <td>0</td>\n",
       "      <td>0</td>\n",
       "      <td>0</td>\n",
       "    </tr>\n",
       "    <tr>\n",
       "      <th>SSC10005</th>\n",
       "      <td>0</td>\n",
       "      <td>0</td>\n",
       "      <td>0</td>\n",
       "      <td>0</td>\n",
       "      <td>0</td>\n",
       "      <td>0</td>\n",
       "      <td>0</td>\n",
       "      <td>0</td>\n",
       "      <td>0</td>\n",
       "      <td>0</td>\n",
       "      <td>0</td>\n",
       "      <td>0</td>\n",
       "    </tr>\n",
       "  </tbody>\n",
       "</table>\n",
       "</div>"
      ],
      "text/plain": [
       "               Canada_Tot  China_exc_SARs_Taiwan_Tot  Croatia_Tot  Egypt_Tot  \\\n",
       "SSC_CODE_2016                                                                  \n",
       "SSC10001                0                          0            0          0   \n",
       "SSC10002                3                         30           59         20   \n",
       "SSC10003                7                        165           12         17   \n",
       "SSC10004                3                          6            0          0   \n",
       "SSC10005                0                          0            0          0   \n",
       "\n",
       "               Fiji_Tot  Germany_Tot  Greece_Tot  Hong_Kong_SAR_China_Tot  \\\n",
       "SSC_CODE_2016                                                               \n",
       "SSC10001              0            0           0                        0   \n",
       "SSC10002             31            8          17                        6   \n",
       "SSC10003              6           20          30                       47   \n",
       "SSC10004              4            3           0                        0   \n",
       "SSC10005              0            0           0                        0   \n",
       "\n",
       "               India_Tot  Indonesia_Tot  Iran_Tot  Iraq_Tot  \n",
       "SSC_CODE_2016                                                \n",
       "SSC10001               0              0         0         0  \n",
       "SSC10002              12              5        48       297  \n",
       "SSC10003              23             16        13         3  \n",
       "SSC10004               4              0         0         0  \n",
       "SSC10005               0              0         0         0  "
      ]
     },
     "execution_count": 93,
     "metadata": {},
     "output_type": "execute_result"
    }
   ],
   "source": [
    "df1=pd.read_csv('/home/jovyan/Property_proj/Data/2016_Census_NSW_suburbs/2016_Census_NSW_suburbs/2016Census_G10A_NSW_SSC.csv')\n",
    "df1=df1.set_index('SSC_CODE_2016')\n",
    "df1_1=df1.filter(regex='Tot')\n",
    "df1_1.head()"
   ]
  },
  {
   "cell_type": "code",
   "execution_count": 94,
   "metadata": {},
   "outputs": [],
   "source": [
    "import io\n",
    "import numpy as np\n",
    "import xlrd\n",
    "import os\n",
    "import pandas as pd\n",
    "import fnmatch\n",
    "pd.options.display.float_format = '{:.2f}'.format\n",
    "\n",
    "\n",
    "#/Users/vsam/Documents/Property_proj/Data/2016_GCP_SSC_for_NSW_short-header/2016_Census_NSW_suburbs\n"
   ]
  },
  {
   "cell_type": "code",
   "execution_count": 95,
   "metadata": {
    "scrolled": true
   },
   "outputs": [],
   "source": [
    "dir_path='/home/jovyan/Property_proj/Data/2016_GCP_SSC_for_NSW_short-header/2016_Census_NSW_suburbs'\n",
    "test_merg=merged_selected\n",
    "#test_merg.columns"
   ]
  },
  {
   "cell_type": "code",
   "execution_count": 96,
   "metadata": {},
   "outputs": [],
   "source": [
    "def my_function1(dir_path,file_classification):\n",
    "    test_merg=merged_selected\n",
    "    all_files=os.listdir(dir_path)\n",
    "    csv_files=[f for f in all_files if f.endswith((\".csv\"))]\n",
    "    needed_file=[]\n",
    "    \n",
    "    my_regex= '*' + file_classification + '*'\n",
    "    \n",
    "    for file in csv_files:\n",
    "        if fnmatch.fnmatch(file, my_regex):\n",
    "            needed_file.append(file)\n",
    "    \n",
    "    #print(needed_file)\n",
    "    \n",
    "    for file in needed_file:\n",
    "        df=pd.read_csv(dir_path + '/' + file)\n",
    "        df=df.set_index('SSC_CODE_2016')\n",
    "        df=df.filter(regex='_Tot')\n",
    "        test_merg = pd.merge(test_merg, df, left_on='SSC_CODE_2016', right_on='SSC_CODE_2016', how='left')\n",
    "    \n",
    "    return test_merg\n",
    "    \n"
   ]
  },
  {
   "cell_type": "code",
   "execution_count": 97,
   "metadata": {},
   "outputs": [],
   "source": [
    "#Function call to load one category of files\n",
    "a=my_function1(\"/home/jovyan/Property_proj/Data/2016_Census_NSW_suburbs/2016_Census_NSW_suburbs\", \"G10\")\n",
    "#select a suburb\n",
    "#b=a.where(a['Census_Name_2016']=='Parramatta').dropna()\n",
    "#b"
   ]
  },
  {
   "cell_type": "code",
   "execution_count": 98,
   "metadata": {},
   "outputs": [],
   "source": [
    "#a.columns"
   ]
  },
  {
   "cell_type": "markdown",
   "metadata": {},
   "source": [
    "# Function to select top 5 nationalities in the suburb"
   ]
  },
  {
   "cell_type": "code",
   "execution_count": 99,
   "metadata": {},
   "outputs": [],
   "source": [
    "def pop_percentage(row):\n",
    "    #------- Define local Variables\n",
    "    out_str = \"\"\n",
    "    Tot_Tot = 0\n",
    "    i = 0\n",
    "    others= 0\n",
    "    others_per = 0\n",
    "    others_per_str= \"\"\n",
    "    #------- \n",
    "    \n",
    "    # Read the current row,  transpose and create as dataframe\n",
    "    df_1 = row.transpose()\n",
    "    # Filter out the string columns\n",
    "    df_test = df_1[(df_1.index!=\"SSC_CODE_2016\") & (df_1.index!=\"Census_Name_2016\")]\n",
    "    \n",
    "    df_test_1 = pd.DataFrame({'country':df_test.index, 'no_pop':df_test.values})\\\n",
    "                  .sort_values(by=['no_pop'],ascending=False)\n",
    "    \n",
    "    for values in df_test_1.T.to_dict().values():\n",
    "        # check and read the Tot_Tot - Total population and assign to variable\n",
    "        if values['country']==\"Tot_Tot\":\n",
    "            Tot_Tot = values['no_pop']\n",
    "            \n",
    "        # check and read the Born_elsewhere_Tot - other category assign to variable\n",
    "        elif values['country']==\"Born_elsewhere_Tot\":\n",
    "            others = others + round(values['no_pop'])\n",
    "        else:\n",
    "            # Number of top country the the  i value \n",
    "            if (i<5):\n",
    "                i = i+1\n",
    "                if Tot_Tot == 0:\n",
    "                    per_ = 0\n",
    "                else:\n",
    "                    per_  =  round((values['no_pop']/Tot_Tot ) *100, 2)\n",
    "                out_str =  out_str + str(i) + \"|\" + (values['country'].replace(\"_Tot\",\"\") + \"|\" +str( per_) + \",\")\n",
    "            else:\n",
    "                others= others + round(values['no_pop'])\n",
    "    if Tot_Tot == 0:\n",
    "        others_per = 0\n",
    "    else: \n",
    "        others_per = round((others/Tot_Tot)* 100, 2)\n",
    "    others_per_str = str(0) + \"|other_countries|\" +  str(others_per)    \n",
    "    return out_str + str(others_per_str)"
   ]
  },
  {
   "cell_type": "code",
   "execution_count": 100,
   "metadata": {},
   "outputs": [],
   "source": [
    "lst= [i for i in a.columns if i.endswith(\"_Tot\")]\n",
    "\n",
    "# Add key columns\n",
    "df_sel =a[[\"SSC_CODE_2016\", \"Census_Name_2016\"] + lst]"
   ]
  },
  {
   "cell_type": "code",
   "execution_count": 101,
   "metadata": {},
   "outputs": [
    {
     "name": "stderr",
     "output_type": "stream",
     "text": [
      "/opt/conda/lib/python3.6/site-packages/ipykernel_launcher.py:1: SettingWithCopyWarning: \n",
      "A value is trying to be set on a copy of a slice from a DataFrame.\n",
      "Try using .loc[row_indexer,col_indexer] = value instead\n",
      "\n",
      "See the caveats in the documentation: http://pandas.pydata.org/pandas-docs/stable/indexing.html#indexing-view-versus-copy\n",
      "  \"\"\"Entry point for launching an IPython kernel.\n"
     ]
    }
   ],
   "source": [
    "df_sel['pop_percentage'] = df_sel.apply(pop_percentage, axis=1)"
   ]
  },
  {
   "cell_type": "code",
   "execution_count": 102,
   "metadata": {},
   "outputs": [],
   "source": [
    "df_top_population=df_sel[[\"SSC_CODE_2016\",\"Census_Name_2016\",\"pop_percentage\"]]"
   ]
  },
  {
   "cell_type": "markdown",
   "metadata": {},
   "source": [
    "### This DF contains the top 5 group of people based on their origin nationality"
   ]
  },
  {
   "cell_type": "code",
   "execution_count": 111,
   "metadata": {},
   "outputs": [
    {
     "data": {
      "text/html": [
       "<div>\n",
       "<style scoped>\n",
       "    .dataframe tbody tr th:only-of-type {\n",
       "        vertical-align: middle;\n",
       "    }\n",
       "\n",
       "    .dataframe tbody tr th {\n",
       "        vertical-align: top;\n",
       "    }\n",
       "\n",
       "    .dataframe thead th {\n",
       "        text-align: right;\n",
       "    }\n",
       "</style>\n",
       "<table border=\"1\" class=\"dataframe\">\n",
       "  <thead>\n",
       "    <tr style=\"text-align: right;\">\n",
       "      <th></th>\n",
       "      <th>SSC_CODE_2016</th>\n",
       "      <th>Census_Name_2016</th>\n",
       "      <th>pop_percentage</th>\n",
       "    </tr>\n",
       "  </thead>\n",
       "  <tbody>\n",
       "    <tr>\n",
       "      <th>0</th>\n",
       "      <td>SSC10001</td>\n",
       "      <td>Aarons Pass</td>\n",
       "      <td>1|United_Kingdom|100.0,2|Fiji|0.0,3|Poland|0.0...</td>\n",
       "    </tr>\n",
       "    <tr>\n",
       "      <th>1</th>\n",
       "      <td>SSC10002</td>\n",
       "      <td>Abbotsbury</td>\n",
       "      <td>1|Iraq|20.26,2|Italy|10.16,3|Vietnam|7.71,4|Ph...</td>\n",
       "    </tr>\n",
       "    <tr>\n",
       "      <th>2</th>\n",
       "      <td>SSC10003</td>\n",
       "      <td>Abbotsford (NSW)</td>\n",
       "      <td>1|Italy|18.74,2|United_Kingdom|13.79,3|China_e...</td>\n",
       "    </tr>\n",
       "    <tr>\n",
       "      <th>3</th>\n",
       "      <td>SSC10004</td>\n",
       "      <td>Abercrombie</td>\n",
       "      <td>1|United_Kingdom|26.74,2|New_Zealand|11.63,3|S...</td>\n",
       "    </tr>\n",
       "    <tr>\n",
       "      <th>4</th>\n",
       "      <td>SSC10005</td>\n",
       "      <td>Abercrombie River</td>\n",
       "      <td>1|New_Zealand|0.0,2|Philippines|0.0,3|Poland|0...</td>\n",
       "    </tr>\n",
       "  </tbody>\n",
       "</table>\n",
       "</div>"
      ],
      "text/plain": [
       "  SSC_CODE_2016   Census_Name_2016  \\\n",
       "0      SSC10001        Aarons Pass   \n",
       "1      SSC10002         Abbotsbury   \n",
       "2      SSC10003   Abbotsford (NSW)   \n",
       "3      SSC10004        Abercrombie   \n",
       "4      SSC10005  Abercrombie River   \n",
       "\n",
       "                                      pop_percentage  \n",
       "0  1|United_Kingdom|100.0,2|Fiji|0.0,3|Poland|0.0...  \n",
       "1  1|Iraq|20.26,2|Italy|10.16,3|Vietnam|7.71,4|Ph...  \n",
       "2  1|Italy|18.74,2|United_Kingdom|13.79,3|China_e...  \n",
       "3  1|United_Kingdom|26.74,2|New_Zealand|11.63,3|S...  \n",
       "4  1|New_Zealand|0.0,2|Philippines|0.0,3|Poland|0...  "
      ]
     },
     "execution_count": 111,
     "metadata": {},
     "output_type": "execute_result"
    }
   ],
   "source": [
    "df_top_population.head()"
   ]
  },
  {
   "cell_type": "code",
   "execution_count": null,
   "metadata": {},
   "outputs": [],
   "source": []
  }
 ],
 "metadata": {
  "kernelspec": {
   "display_name": "Python 3",
   "language": "python",
   "name": "python3"
  },
  "language_info": {
   "codemirror_mode": {
    "name": "ipython",
    "version": 3
   },
   "file_extension": ".py",
   "mimetype": "text/x-python",
   "name": "python",
   "nbconvert_exporter": "python",
   "pygments_lexer": "ipython3",
   "version": "3.6.6"
  }
 },
 "nbformat": 4,
 "nbformat_minor": 2
}
