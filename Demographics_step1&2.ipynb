{
 "cells": [
  {
   "cell_type": "code",
   "execution_count": 1,
   "metadata": {},
   "outputs": [
    {
     "name": "stdout",
     "output_type": "stream",
     "text": [
      "Collecting pyshp\n",
      "\u001b[?25l  Downloading https://files.pythonhosted.org/packages/27/16/3bf15aa864fb77845fab8007eda22c2bd67bd6c1fd13496df452c8c43621/pyshp-2.1.0.tar.gz (215kB)\n",
      "\u001b[K    100% |████████████████████████████████| 225kB 243kB/s ta 0:00:01\n",
      "\u001b[?25hBuilding wheels for collected packages: pyshp\n",
      "  Running setup.py bdist_wheel for pyshp ... \u001b[?25ldone\n",
      "\u001b[?25h  Stored in directory: /home/jovyan/.cache/pip/wheels/a6/0c/de/321b5192ad416b328975a2f0385f72c64db4656501eba7cc1a\n",
      "Successfully built pyshp\n",
      "Installing collected packages: pyshp\n",
      "Successfully installed pyshp-2.1.0\n",
      "Collecting Basemap\n",
      "\u001b[31m  Could not find a version that satisfies the requirement Basemap (from versions: )\u001b[0m\n",
      "\u001b[31mNo matching distribution found for Basemap\u001b[0m\n"
     ]
    }
   ],
   "source": [
    "import pandas as pd\n",
    "#! pip install fiona\n",
    "! pip install pyshp\n",
    "! pip install Basemap"
   ]
  },
  {
   "cell_type": "markdown",
   "metadata": {},
   "source": [
    "# Step:1"
   ]
  },
  {
   "cell_type": "code",
   "execution_count": 2,
   "metadata": {},
   "outputs": [
    {
     "name": "stdout",
     "output_type": "stream",
     "text": [
      "ls: cannot access '/home/jovyan/Property_proj/Data/2016_GCP_SSC_for_NSW_short-header/Metadata/2016Census_geog_desc_1st_and_2nd_release.xlsx': No such file or directory\r\n"
     ]
    }
   ],
   "source": [
    "!ls /home/jovyan/Property_proj/Data/2016_GCP_SSC_for_NSW_short-header/Metadata/2016Census_geog_desc_1st_and_2nd_release.xlsx"
   ]
  },
  {
   "cell_type": "code",
   "execution_count": 2,
   "metadata": {},
   "outputs": [
    {
     "name": "stderr",
     "output_type": "stream",
     "text": [
      "/opt/conda/lib/python3.6/site-packages/pandas/io/excel.py:329: FutureWarning: The `sheetname` keyword is deprecated, use `sheet_name` instead\n",
      "  **kwds)\n"
     ]
    }
   ],
   "source": [
    "##read data file *G02*\n",
    "df=pd.read_csv('/home/jovyan/Property_proj/Data/2016_Census_NSW_Suburbs/2016_Census_NSW_suburbs/2016Census_G02_NSW_SSC.csv')\n",
    "\n",
    "##read meta data(suburb code to name mapping)\n",
    "df_ref_data = pd.read_excel('/home/jovyan/Property_proj/Data/2016_Census_NSW_Suburbs/Metadata/2016Census_geog_desc_1st_and_2nd_release.xlsx', index_col=None,\n",
    "                  sheetname ='2016_ASGS_Non-ABS_Structures')"
   ]
  },
  {
   "cell_type": "code",
   "execution_count": 15,
   "metadata": {},
   "outputs": [],
   "source": [
    "## Merge the G02 file with reference data file to get the suburb name.\n",
    "collated_df1 = pd.merge(df, df_ref_data, left_on='SSC_CODE_2016', right_on='Census_Code_2016', how='left')"
   ]
  },
  {
   "cell_type": "code",
   "execution_count": 16,
   "metadata": {},
   "outputs": [
    {
     "data": {
      "text/html": [
       "<div>\n",
       "<style scoped>\n",
       "    .dataframe tbody tr th:only-of-type {\n",
       "        vertical-align: middle;\n",
       "    }\n",
       "\n",
       "    .dataframe tbody tr th {\n",
       "        vertical-align: top;\n",
       "    }\n",
       "\n",
       "    .dataframe thead th {\n",
       "        text-align: right;\n",
       "    }\n",
       "</style>\n",
       "<table border=\"1\" class=\"dataframe\">\n",
       "  <thead>\n",
       "    <tr style=\"text-align: right;\">\n",
       "      <th></th>\n",
       "      <th>SSC_CODE_2016</th>\n",
       "      <th>Median_age_persons</th>\n",
       "      <th>Median_mortgage_repay_monthly</th>\n",
       "      <th>Median_tot_prsnl_inc_weekly</th>\n",
       "      <th>Median_rent_weekly</th>\n",
       "      <th>Median_tot_fam_inc_weekly</th>\n",
       "      <th>Average_num_psns_per_bedroom</th>\n",
       "      <th>Median_tot_hhd_inc_weekly</th>\n",
       "      <th>Average_household_size</th>\n",
       "      <th>ASGS_Structure</th>\n",
       "      <th>Census_Code_2016</th>\n",
       "      <th>ASGS_Code_2016</th>\n",
       "      <th>Census_Name_2016</th>\n",
       "      <th>Area sqkm</th>\n",
       "    </tr>\n",
       "  </thead>\n",
       "  <tbody>\n",
       "    <tr>\n",
       "      <th>3155</th>\n",
       "      <td>SSC13156</td>\n",
       "      <td>31.0</td>\n",
       "      <td>1874.0</td>\n",
       "      <td>755.0</td>\n",
       "      <td>430.0</td>\n",
       "      <td>1802.0</td>\n",
       "      <td>1.3</td>\n",
       "      <td>1739.0</td>\n",
       "      <td>2.6</td>\n",
       "      <td>SSC</td>\n",
       "      <td>SSC13156</td>\n",
       "      <td>13156.0</td>\n",
       "      <td>Parramatta</td>\n",
       "      <td>5.2595</td>\n",
       "    </tr>\n",
       "  </tbody>\n",
       "</table>\n",
       "</div>"
      ],
      "text/plain": [
       "     SSC_CODE_2016  Median_age_persons  Median_mortgage_repay_monthly  \\\n",
       "3155      SSC13156                31.0                         1874.0   \n",
       "\n",
       "      Median_tot_prsnl_inc_weekly  Median_rent_weekly  \\\n",
       "3155                        755.0               430.0   \n",
       "\n",
       "      Median_tot_fam_inc_weekly  Average_num_psns_per_bedroom  \\\n",
       "3155                     1802.0                           1.3   \n",
       "\n",
       "      Median_tot_hhd_inc_weekly  Average_household_size ASGS_Structure  \\\n",
       "3155                     1739.0                     2.6            SSC   \n",
       "\n",
       "     Census_Code_2016  ASGS_Code_2016 Census_Name_2016  Area sqkm  \n",
       "3155         SSC13156         13156.0       Parramatta     5.2595  "
      ]
     },
     "execution_count": 16,
     "metadata": {},
     "output_type": "execute_result"
    }
   ],
   "source": [
    "##Testing the merge\n",
    "collated_df1.where(merged['SSC_CODE_2016'] =='SSC13156').dropna()"
   ]
  },
  {
   "cell_type": "markdown",
   "metadata": {},
   "source": [
    "# Df with basic aggrigated information\n",
    "####  Median_age_persons, Median_mortgage_repay_monthly, Median_tot_prsnl_inc_weekly, Median_rent_weekly, Median_tot_fam_inc_weekly, Average_num_psns_per_bedroom, Median_tot_hhd_inc_weekly, Average_household_size\n"
   ]
  },
  {
   "cell_type": "code",
   "execution_count": 39,
   "metadata": {},
   "outputs": [],
   "source": [
    "collated_df2=collated_df1[['SSC_CODE_2016','Census_Name_2016', 'Median_age_persons', 'Median_mortgage_repay_monthly',\n",
    "       'Median_tot_prsnl_inc_weekly', 'Median_rent_weekly',\n",
    "       'Median_tot_fam_inc_weekly', 'Average_num_psns_per_bedroom',\n",
    "       'Median_tot_hhd_inc_weekly', 'Average_household_size']]\n",
    "\n",
    "\n",
    "#df_aggrigated_info.count()"
   ]
  },
  {
   "cell_type": "code",
   "execution_count": 19,
   "metadata": {},
   "outputs": [],
   "source": [
    "#df_aggrigated_info.to_csv(\"aggrigated_info.csv\")"
   ]
  },
  {
   "cell_type": "markdown",
   "metadata": {},
   "source": [
    "# Step: 2"
   ]
  },
  {
   "cell_type": "code",
   "execution_count": 21,
   "metadata": {
    "scrolled": true
   },
   "outputs": [],
   "source": [
    "#df1=pd.read_csv('/home/jovyan/Property_proj/Data/2016_Census_NSW_suburbs/2016_Census_NSW_suburbs/2016Census_G10A_NSW_SSC.csv')\n",
    "#df1=df1.set_index('SSC_CODE_2016')\n",
    "#df1_1=df1.filter(regex='Tot')\n",
    "#df1_1.head()"
   ]
  },
  {
   "cell_type": "code",
   "execution_count": 22,
   "metadata": {},
   "outputs": [],
   "source": [
    "import io\n",
    "import numpy as np\n",
    "import xlrd\n",
    "import os\n",
    "import pandas as pd\n",
    "import fnmatch\n",
    "pd.options.display.float_format = '{:.2f}'.format\n",
    "\n",
    "\n",
    "#/Users/vsam/Documents/Property_proj/Data/2016_GCP_SSC_for_NSW_short-header/2016_Census_NSW_suburbs\n"
   ]
  },
  {
   "cell_type": "code",
   "execution_count": 24,
   "metadata": {
    "scrolled": true
   },
   "outputs": [],
   "source": [
    "dir_path='/home/jovyan/Property_proj/Data/2016_GCP_SSC_for_NSW_short-header/2016_Census_NSW_suburbs'\n",
    "test_merg=df_aggrigated_info  #---------------------- ASK APPANDU\n",
    "#test_merg.columns"
   ]
  },
  {
   "cell_type": "code",
   "execution_count": 27,
   "metadata": {},
   "outputs": [],
   "source": [
    "def my_function1(dir_path,file_classification):\n",
    "    test_merg=df_aggrigated_info\n",
    "    all_files=os.listdir(dir_path)\n",
    "    csv_files=[f for f in all_files if f.endswith((\".csv\"))]\n",
    "    needed_file=[]\n",
    "    \n",
    "    my_regex= '*' + file_classification + '*'\n",
    "    \n",
    "    for file in csv_files:\n",
    "        if fnmatch.fnmatch(file, my_regex):\n",
    "            needed_file.append(file)\n",
    "    \n",
    "    #print(needed_file)\n",
    "    \n",
    "    for file in needed_file:\n",
    "        df=pd.read_csv(dir_path + '/' + file)\n",
    "        df=df.set_index('SSC_CODE_2016')\n",
    "        df=df.filter(regex='_Tot')\n",
    "        test_merg = pd.merge(test_merg, df, left_on='SSC_CODE_2016', right_on='SSC_CODE_2016', how='left')\n",
    "    \n",
    "    return test_merg\n",
    "    \n"
   ]
  },
  {
   "cell_type": "code",
   "execution_count": 28,
   "metadata": {},
   "outputs": [],
   "source": [
    "#Function call to load one category of files\n",
    "a=my_function1(\"/home/jovyan/Property_proj/Data/2016_Census_NSW_suburbs/2016_Census_NSW_suburbs\", \"G10\")\n",
    "#select a suburb\n",
    "#b=a.where(a['Census_Name_2016']=='Parramatta').dropna()\n",
    "#b"
   ]
  },
  {
   "cell_type": "code",
   "execution_count": 29,
   "metadata": {},
   "outputs": [
    {
     "data": {
      "text/plain": [
       "Index(['SSC_CODE_2016', 'Census_Name_2016', 'Median_age_persons',\n",
       "       'Median_mortgage_repay_monthly', 'Median_tot_prsnl_inc_weekly',\n",
       "       'Median_rent_weekly', 'Median_tot_fam_inc_weekly',\n",
       "       'Average_num_psns_per_bedroom', 'Median_tot_hhd_inc_weekly',\n",
       "       'Average_household_size', 'South_Africa_Tot', 'Sri_Lanka_Tot',\n",
       "       'Thailand_Tot', 'FYROM_Tot', 'Turkey_Tot', 'United_Kingdom_Tot',\n",
       "       'USA_Total', 'Vietnam_Tot', 'Zimbabwe_Tot', 'Born_elsewhere_Tot',\n",
       "       'Tot_Tot', 'Ireland_Tot', 'Italy_Tot', 'Japan_Tot',\n",
       "       'Korea_Republic_South_Tot', 'Lebanon_Tot', 'Malaysia_Tot', 'Malta_Tot',\n",
       "       'Netherlands_Tot', 'New_Zealand_Tot', 'Pakistan_Tot', 'Philippines_Tot',\n",
       "       'Poland_Tot', 'Singapore_Tot', 'Canada_Tot',\n",
       "       'China_exc_SARs_Taiwan_Tot', 'Croatia_Tot', 'Egypt_Tot', 'Fiji_Tot',\n",
       "       'Germany_Tot', 'Greece_Tot', 'Hong_Kong_SAR_China_Tot', 'India_Tot',\n",
       "       'Indonesia_Tot', 'Iran_Tot', 'Iraq_Tot'],\n",
       "      dtype='object')"
      ]
     },
     "execution_count": 29,
     "metadata": {},
     "output_type": "execute_result"
    }
   ],
   "source": [
    "a.columns"
   ]
  },
  {
   "cell_type": "markdown",
   "metadata": {},
   "source": [
    "# Function to select top 5 nationalities in each suburb"
   ]
  },
  {
   "cell_type": "code",
   "execution_count": 30,
   "metadata": {},
   "outputs": [],
   "source": [
    "def pop_percentage(row):\n",
    "    #------- Define local Variables\n",
    "    out_str = \"\"\n",
    "    Tot_Tot = 0\n",
    "    i = 0\n",
    "    others= 0\n",
    "    others_per = 0\n",
    "    others_per_str= \"\"\n",
    "    #------- \n",
    "    \n",
    "    # Read the current row,  transpose and create as dataframe\n",
    "    df_1 = row.transpose()\n",
    "    # Filter out the string columns\n",
    "    df_test = df_1[(df_1.index!=\"SSC_CODE_2016\") & (df_1.index!=\"Census_Name_2016\")]\n",
    "    \n",
    "    df_test_1 = pd.DataFrame({'country':df_test.index, 'no_pop':df_test.values})\\\n",
    "                  .sort_values(by=['no_pop'],ascending=False)\n",
    "    \n",
    "    for values in df_test_1.T.to_dict().values():\n",
    "        # check and read the Tot_Tot - Total population and assign to variable\n",
    "        if values['country']==\"Tot_Tot\":\n",
    "            Tot_Tot = values['no_pop']\n",
    "            \n",
    "        # check and read the Born_elsewhere_Tot - other category assign to variable\n",
    "        elif values['country']==\"Born_elsewhere_Tot\":\n",
    "            others = others + round(values['no_pop'])\n",
    "        else:\n",
    "            # Number of top country the the  i value \n",
    "            if (i<5):\n",
    "                i = i+1\n",
    "                if Tot_Tot == 0:\n",
    "                    per_ = 0\n",
    "                else:\n",
    "                    per_  =  round((values['no_pop']/Tot_Tot ) *100, 2)\n",
    "                out_str =  out_str + str(i) + \"|\" + (values['country'].replace(\"_Tot\",\"\") + \"|\" +str( per_) + \",\")\n",
    "            else:\n",
    "                others= others + round(values['no_pop'])\n",
    "    if Tot_Tot == 0:\n",
    "        others_per = 0\n",
    "    else: \n",
    "        others_per = round((others/Tot_Tot)* 100, 2)\n",
    "    others_per_str = str(0) + \"|other_countries|\" +  str(others_per)    \n",
    "    return out_str + str(others_per_str)"
   ]
  },
  {
   "cell_type": "code",
   "execution_count": 31,
   "metadata": {},
   "outputs": [
    {
     "name": "stdout",
     "output_type": "stream",
     "text": [
      "['South_Africa_Tot', 'Sri_Lanka_Tot', 'Thailand_Tot', 'FYROM_Tot', 'Turkey_Tot', 'United_Kingdom_Tot', 'Vietnam_Tot', 'Zimbabwe_Tot', 'Born_elsewhere_Tot', 'Tot_Tot', 'Ireland_Tot', 'Italy_Tot', 'Japan_Tot', 'Korea_Republic_South_Tot', 'Lebanon_Tot', 'Malaysia_Tot', 'Malta_Tot', 'Netherlands_Tot', 'New_Zealand_Tot', 'Pakistan_Tot', 'Philippines_Tot', 'Poland_Tot', 'Singapore_Tot', 'Canada_Tot', 'China_exc_SARs_Taiwan_Tot', 'Croatia_Tot', 'Egypt_Tot', 'Fiji_Tot', 'Germany_Tot', 'Greece_Tot', 'Hong_Kong_SAR_China_Tot', 'India_Tot', 'Indonesia_Tot', 'Iran_Tot', 'Iraq_Tot']\n"
     ]
    }
   ],
   "source": [
    "lst= [i for i in a.columns if i.endswith(\"_Tot\")]\n",
    "print(lst)\n",
    "# Add key columns\n",
    "df_sel =a[[\"SSC_CODE_2016\", \"Census_Name_2016\"] + lst]"
   ]
  },
  {
   "cell_type": "code",
   "execution_count": 32,
   "metadata": {},
   "outputs": [
    {
     "name": "stderr",
     "output_type": "stream",
     "text": [
      "/opt/conda/lib/python3.6/site-packages/ipykernel_launcher.py:1: SettingWithCopyWarning: \n",
      "A value is trying to be set on a copy of a slice from a DataFrame.\n",
      "Try using .loc[row_indexer,col_indexer] = value instead\n",
      "\n",
      "See the caveats in the documentation: http://pandas.pydata.org/pandas-docs/stable/indexing.html#indexing-view-versus-copy\n",
      "  \"\"\"Entry point for launching an IPython kernel.\n"
     ]
    }
   ],
   "source": [
    "df_sel['pop_percentage'] = df_sel.apply(pop_percentage, axis=1)"
   ]
  },
  {
   "cell_type": "code",
   "execution_count": 37,
   "metadata": {},
   "outputs": [],
   "source": [
    "df_top_population=df_sel[[\"SSC_CODE_2016\",\"Census_Name_2016\",\"pop_percentage\"]]"
   ]
  },
  {
   "cell_type": "markdown",
   "metadata": {},
   "source": [
    "### This DF contains the top 5 group of people based on their origin nationality"
   ]
  },
  {
   "cell_type": "code",
   "execution_count": 38,
   "metadata": {},
   "outputs": [
    {
     "data": {
      "text/html": [
       "<div>\n",
       "<style scoped>\n",
       "    .dataframe tbody tr th:only-of-type {\n",
       "        vertical-align: middle;\n",
       "    }\n",
       "\n",
       "    .dataframe tbody tr th {\n",
       "        vertical-align: top;\n",
       "    }\n",
       "\n",
       "    .dataframe thead th {\n",
       "        text-align: right;\n",
       "    }\n",
       "</style>\n",
       "<table border=\"1\" class=\"dataframe\">\n",
       "  <thead>\n",
       "    <tr style=\"text-align: right;\">\n",
       "      <th></th>\n",
       "      <th>SSC_CODE_2016</th>\n",
       "      <th>Census_Name_2016</th>\n",
       "      <th>pop_percentage</th>\n",
       "    </tr>\n",
       "  </thead>\n",
       "  <tbody>\n",
       "    <tr>\n",
       "      <th>0</th>\n",
       "      <td>SSC10001</td>\n",
       "      <td>Aarons Pass</td>\n",
       "      <td>1|United_Kingdom|100.0,2|Fiji|0.0,3|Poland|0.0...</td>\n",
       "    </tr>\n",
       "    <tr>\n",
       "      <th>1</th>\n",
       "      <td>SSC10002</td>\n",
       "      <td>Abbotsbury</td>\n",
       "      <td>1|Iraq|20.26,2|Italy|10.16,3|Vietnam|7.71,4|Ph...</td>\n",
       "    </tr>\n",
       "    <tr>\n",
       "      <th>2</th>\n",
       "      <td>SSC10003</td>\n",
       "      <td>Abbotsford (NSW)</td>\n",
       "      <td>1|Italy|18.74,2|United_Kingdom|13.79,3|China_e...</td>\n",
       "    </tr>\n",
       "    <tr>\n",
       "      <th>3</th>\n",
       "      <td>SSC10004</td>\n",
       "      <td>Abercrombie</td>\n",
       "      <td>1|United_Kingdom|26.74,2|New_Zealand|11.63,3|S...</td>\n",
       "    </tr>\n",
       "    <tr>\n",
       "      <th>4</th>\n",
       "      <td>SSC10005</td>\n",
       "      <td>Abercrombie River</td>\n",
       "      <td>1|New_Zealand|0.0,2|Philippines|0.0,3|Poland|0...</td>\n",
       "    </tr>\n",
       "  </tbody>\n",
       "</table>\n",
       "</div>"
      ],
      "text/plain": [
       "  SSC_CODE_2016   Census_Name_2016  \\\n",
       "0      SSC10001        Aarons Pass   \n",
       "1      SSC10002         Abbotsbury   \n",
       "2      SSC10003   Abbotsford (NSW)   \n",
       "3      SSC10004        Abercrombie   \n",
       "4      SSC10005  Abercrombie River   \n",
       "\n",
       "                                      pop_percentage  \n",
       "0  1|United_Kingdom|100.0,2|Fiji|0.0,3|Poland|0.0...  \n",
       "1  1|Iraq|20.26,2|Italy|10.16,3|Vietnam|7.71,4|Ph...  \n",
       "2  1|Italy|18.74,2|United_Kingdom|13.79,3|China_e...  \n",
       "3  1|United_Kingdom|26.74,2|New_Zealand|11.63,3|S...  \n",
       "4  1|New_Zealand|0.0,2|Philippines|0.0,3|Poland|0...  "
      ]
     },
     "execution_count": 38,
     "metadata": {},
     "output_type": "execute_result"
    }
   ],
   "source": [
    "df_top_population.head()"
   ]
  },
  {
   "cell_type": "markdown",
   "metadata": {},
   "source": [
    "### Merging \"basic aggrigated info\" df with \"Nationality\" df"
   ]
  },
  {
   "cell_type": "code",
   "execution_count": 40,
   "metadata": {},
   "outputs": [],
   "source": [
    "collated_df3 = pd.merge(collated_df2, df_top_population, left_on='SSC_CODE_2016', right_on='SSC_CODE_2016', how='left')"
   ]
  },
  {
   "cell_type": "markdown",
   "metadata": {},
   "source": [
    "# Step: 3"
   ]
  },
  {
   "cell_type": "markdown",
   "metadata": {},
   "source": [
    "### Dwelling structure"
   ]
  },
  {
   "cell_type": "code",
   "execution_count": 71,
   "metadata": {},
   "outputs": [],
   "source": [
    "#Read the input data\n",
    "\n",
    "df_dwelling=pd.read_csv('/home/jovyan/Property_proj/Data/2016_Census_NSW_Suburbs/2016_Census_NSW_suburbs/2016Census_G33_NSW_SSC.csv')"
   ]
  },
  {
   "cell_type": "code",
   "execution_count": 73,
   "metadata": {},
   "outputs": [],
   "source": [
    "df_dwelling.set_index('SSC_CODE_2016')\n",
    "\n",
    "df_dwelling1=df_dwelling[['SSC_CODE_2016','R_Tot_Total','Total_DS_Sep_house','Total_DS_SemiD_ro_or_tce_h_th','Total_DS_Flat_apart','Total_DS_Oth_dwell','Total_DS_not_stated','Total_Total']]\n",
    "#df_dwelling1.head()"
   ]
  },
  {
   "cell_type": "code",
   "execution_count": 74,
   "metadata": {},
   "outputs": [],
   "source": [
    "# Renaming the columns\n",
    "\n",
    "df_dwelling1.columns=['SSC_CODE_2016','Total_rented_dwellings','Separate_house_Total','Town_house_and_similar','Flats_appartments','Other_Dwellings','Dweling_structur_NS','Total_dwellings']"
   ]
  },
  {
   "cell_type": "code",
   "execution_count": 75,
   "metadata": {},
   "outputs": [
    {
     "data": {
      "text/html": [
       "<div>\n",
       "<style scoped>\n",
       "    .dataframe tbody tr th:only-of-type {\n",
       "        vertical-align: middle;\n",
       "    }\n",
       "\n",
       "    .dataframe tbody tr th {\n",
       "        vertical-align: top;\n",
       "    }\n",
       "\n",
       "    .dataframe thead th {\n",
       "        text-align: right;\n",
       "    }\n",
       "</style>\n",
       "<table border=\"1\" class=\"dataframe\">\n",
       "  <thead>\n",
       "    <tr style=\"text-align: right;\">\n",
       "      <th></th>\n",
       "      <th>SSC_CODE_2016</th>\n",
       "      <th>Total_rented_dwellings</th>\n",
       "      <th>Separate_house_Total</th>\n",
       "      <th>Town_house_and_similar</th>\n",
       "      <th>Flats_appartments</th>\n",
       "      <th>Other_Dwellings</th>\n",
       "      <th>Dweling_structur_NS</th>\n",
       "      <th>Total_dwellings</th>\n",
       "    </tr>\n",
       "  </thead>\n",
       "  <tbody>\n",
       "    <tr>\n",
       "      <th>0</th>\n",
       "      <td>SSC10001</td>\n",
       "      <td>0</td>\n",
       "      <td>6</td>\n",
       "      <td>0</td>\n",
       "      <td>0</td>\n",
       "      <td>0</td>\n",
       "      <td>0</td>\n",
       "      <td>6</td>\n",
       "    </tr>\n",
       "    <tr>\n",
       "      <th>1</th>\n",
       "      <td>SSC10002</td>\n",
       "      <td>95</td>\n",
       "      <td>1180</td>\n",
       "      <td>20</td>\n",
       "      <td>0</td>\n",
       "      <td>0</td>\n",
       "      <td>0</td>\n",
       "      <td>1203</td>\n",
       "    </tr>\n",
       "    <tr>\n",
       "      <th>2</th>\n",
       "      <td>SSC10003</td>\n",
       "      <td>800</td>\n",
       "      <td>623</td>\n",
       "      <td>328</td>\n",
       "      <td>1184</td>\n",
       "      <td>10</td>\n",
       "      <td>12</td>\n",
       "      <td>2165</td>\n",
       "    </tr>\n",
       "    <tr>\n",
       "      <th>3</th>\n",
       "      <td>SSC10004</td>\n",
       "      <td>50</td>\n",
       "      <td>336</td>\n",
       "      <td>14</td>\n",
       "      <td>0</td>\n",
       "      <td>0</td>\n",
       "      <td>0</td>\n",
       "      <td>349</td>\n",
       "    </tr>\n",
       "    <tr>\n",
       "      <th>4</th>\n",
       "      <td>SSC10005</td>\n",
       "      <td>3</td>\n",
       "      <td>11</td>\n",
       "      <td>0</td>\n",
       "      <td>0</td>\n",
       "      <td>0</td>\n",
       "      <td>0</td>\n",
       "      <td>11</td>\n",
       "    </tr>\n",
       "  </tbody>\n",
       "</table>\n",
       "</div>"
      ],
      "text/plain": [
       "  SSC_CODE_2016  Total_rented_dwellings  Separate_house_Total  \\\n",
       "0      SSC10001                       0                     6   \n",
       "1      SSC10002                      95                  1180   \n",
       "2      SSC10003                     800                   623   \n",
       "3      SSC10004                      50                   336   \n",
       "4      SSC10005                       3                    11   \n",
       "\n",
       "   Town_house_and_similar  Flats_appartments  Other_Dwellings  \\\n",
       "0                       0                  0                0   \n",
       "1                      20                  0                0   \n",
       "2                     328               1184               10   \n",
       "3                      14                  0                0   \n",
       "4                       0                  0                0   \n",
       "\n",
       "   Dweling_structur_NS  Total_dwellings  \n",
       "0                    0                6  \n",
       "1                    0             1203  \n",
       "2                   12             2165  \n",
       "3                    0              349  \n",
       "4                    0               11  "
      ]
     },
     "execution_count": 75,
     "metadata": {},
     "output_type": "execute_result"
    }
   ],
   "source": [
    "df_dwelling1.head()"
   ]
  },
  {
   "cell_type": "code",
   "execution_count": 76,
   "metadata": {},
   "outputs": [
    {
     "name": "stderr",
     "output_type": "stream",
     "text": [
      "/opt/conda/lib/python3.6/site-packages/ipykernel_launcher.py:3: SettingWithCopyWarning: \n",
      "A value is trying to be set on a copy of a slice from a DataFrame.\n",
      "Try using .loc[row_indexer,col_indexer] = value instead\n",
      "\n",
      "See the caveats in the documentation: http://pandas.pydata.org/pandas-docs/stable/indexing.html#indexing-view-versus-copy\n",
      "  This is separate from the ipykernel package so we can avoid doing imports until\n"
     ]
    }
   ],
   "source": [
    "#calculating the percentage of rented dwellings\n",
    "\n",
    "df_dwelling1['Percentage_of_rented_dwellings']=(df_dwelling1['Total_rented_dwellings']/df_dwelling1[\"Total_dwellings\"])*100"
   ]
  },
  {
   "cell_type": "code",
   "execution_count": 77,
   "metadata": {},
   "outputs": [
    {
     "data": {
      "text/html": [
       "<div>\n",
       "<style scoped>\n",
       "    .dataframe tbody tr th:only-of-type {\n",
       "        vertical-align: middle;\n",
       "    }\n",
       "\n",
       "    .dataframe tbody tr th {\n",
       "        vertical-align: top;\n",
       "    }\n",
       "\n",
       "    .dataframe thead th {\n",
       "        text-align: right;\n",
       "    }\n",
       "</style>\n",
       "<table border=\"1\" class=\"dataframe\">\n",
       "  <thead>\n",
       "    <tr style=\"text-align: right;\">\n",
       "      <th></th>\n",
       "      <th>SSC_CODE_2016</th>\n",
       "      <th>Total_rented_dwellings</th>\n",
       "      <th>Separate_house_Total</th>\n",
       "      <th>Town_house_and_similar</th>\n",
       "      <th>Flats_appartments</th>\n",
       "      <th>Other_Dwellings</th>\n",
       "      <th>Dweling_structur_NS</th>\n",
       "      <th>Total_dwellings</th>\n",
       "      <th>Percentage_of_rented_dwellings</th>\n",
       "    </tr>\n",
       "  </thead>\n",
       "  <tbody>\n",
       "    <tr>\n",
       "      <th>0</th>\n",
       "      <td>SSC10001</td>\n",
       "      <td>0</td>\n",
       "      <td>6</td>\n",
       "      <td>0</td>\n",
       "      <td>0</td>\n",
       "      <td>0</td>\n",
       "      <td>0</td>\n",
       "      <td>6</td>\n",
       "      <td>0.00</td>\n",
       "    </tr>\n",
       "    <tr>\n",
       "      <th>1</th>\n",
       "      <td>SSC10002</td>\n",
       "      <td>95</td>\n",
       "      <td>1180</td>\n",
       "      <td>20</td>\n",
       "      <td>0</td>\n",
       "      <td>0</td>\n",
       "      <td>0</td>\n",
       "      <td>1203</td>\n",
       "      <td>7.90</td>\n",
       "    </tr>\n",
       "    <tr>\n",
       "      <th>2</th>\n",
       "      <td>SSC10003</td>\n",
       "      <td>800</td>\n",
       "      <td>623</td>\n",
       "      <td>328</td>\n",
       "      <td>1184</td>\n",
       "      <td>10</td>\n",
       "      <td>12</td>\n",
       "      <td>2165</td>\n",
       "      <td>36.95</td>\n",
       "    </tr>\n",
       "    <tr>\n",
       "      <th>3</th>\n",
       "      <td>SSC10004</td>\n",
       "      <td>50</td>\n",
       "      <td>336</td>\n",
       "      <td>14</td>\n",
       "      <td>0</td>\n",
       "      <td>0</td>\n",
       "      <td>0</td>\n",
       "      <td>349</td>\n",
       "      <td>14.33</td>\n",
       "    </tr>\n",
       "    <tr>\n",
       "      <th>4</th>\n",
       "      <td>SSC10005</td>\n",
       "      <td>3</td>\n",
       "      <td>11</td>\n",
       "      <td>0</td>\n",
       "      <td>0</td>\n",
       "      <td>0</td>\n",
       "      <td>0</td>\n",
       "      <td>11</td>\n",
       "      <td>27.27</td>\n",
       "    </tr>\n",
       "  </tbody>\n",
       "</table>\n",
       "</div>"
      ],
      "text/plain": [
       "  SSC_CODE_2016  Total_rented_dwellings  Separate_house_Total  \\\n",
       "0      SSC10001                       0                     6   \n",
       "1      SSC10002                      95                  1180   \n",
       "2      SSC10003                     800                   623   \n",
       "3      SSC10004                      50                   336   \n",
       "4      SSC10005                       3                    11   \n",
       "\n",
       "   Town_house_and_similar  Flats_appartments  Other_Dwellings  \\\n",
       "0                       0                  0                0   \n",
       "1                      20                  0                0   \n",
       "2                     328               1184               10   \n",
       "3                      14                  0                0   \n",
       "4                       0                  0                0   \n",
       "\n",
       "   Dweling_structur_NS  Total_dwellings  Percentage_of_rented_dwellings  \n",
       "0                    0                6                            0.00  \n",
       "1                    0             1203                            7.90  \n",
       "2                   12             2165                           36.95  \n",
       "3                    0              349                           14.33  \n",
       "4                    0               11                           27.27  "
      ]
     },
     "execution_count": 77,
     "metadata": {},
     "output_type": "execute_result"
    }
   ],
   "source": [
    "df_dwelling1.head()"
   ]
  },
  {
   "cell_type": "markdown",
   "metadata": {},
   "source": [
    "### Merging \"collated_df3\" with \"Dwelling_structure\" DF"
   ]
  },
  {
   "cell_type": "code",
   "execution_count": 78,
   "metadata": {},
   "outputs": [],
   "source": [
    "collated_df4 = pd.merge(collated_df3, df_dwelling1, left_on='SSC_CODE_2016', right_on='SSC_CODE_2016', how='left')"
   ]
  },
  {
   "cell_type": "code",
   "execution_count": null,
   "metadata": {},
   "outputs": [],
   "source": [
    "\n",
    "\n"
   ]
  },
  {
   "cell_type": "markdown",
   "metadata": {},
   "source": [
    "# Step 5: Religion"
   ]
  },
  {
   "cell_type": "code",
   "execution_count": 80,
   "metadata": {},
   "outputs": [],
   "source": [
    "#Reading religion data into df\n",
    "rel_df=pd.read_csv('/home/jovyan/Property_proj/Data/2016_Census_NSW_suburbs/2016_Census_NSW_suburbs/2016Census_G14_NSW_SSC.csv')"
   ]
  },
  {
   "cell_type": "code",
   "execution_count": 83,
   "metadata": {},
   "outputs": [],
   "source": [
    "rel_df.set_index('SSC_CODE_2016')\n",
    "#a=rel_df\n",
    "lst= [i for i in rel_df.columns if i.endswith(\"_P\")]\n",
    "\n",
    "df_rel_colls_filtered =a[[\"SSC_CODE_2016\"] + lst]"
   ]
  },
  {
   "cell_type": "code",
   "execution_count": null,
   "metadata": {},
   "outputs": [],
   "source": []
  },
  {
   "cell_type": "code",
   "execution_count": 86,
   "metadata": {},
   "outputs": [],
   "source": [
    "#filtering the \"total Population\" columns per religion\n",
    "\n",
    "df_rel_colls_filtered1= df_rel_colls_filtered[['SSC_CODE_2016','Christianity_Tot_P', 'Hinduism_P', 'Islam_P', 'Judaism_P',\n",
    "       'Othr_Rel_Aust_Abor_Trad_Rel_P', \n",
    "       'Othr_Reln_Other_reln_groups_P', 'Other_Religions_Tot_P',\n",
    "       'SB_OSB_NRA_Tot_P', 'Religious_affiliation_ns_P']]"
   ]
  },
  {
   "cell_type": "code",
   "execution_count": 87,
   "metadata": {},
   "outputs": [],
   "source": [
    "#Renaming the columns\n",
    "\n",
    "df_rel_colls_filtered1.columns=['SSC_CODE_2016','Christianity', 'Hinduism', 'Islam', 'Judaism',\n",
    "       'Aborginal_Traditional_Rel', \n",
    "       'Othr_Reln_Other_reln_groups_P', 'Other_Religions',\n",
    "       'Secular_Beliefs_and_No_Religious_Affiliation', 'Religious_affiliation_ns_P']"
   ]
  },
  {
   "cell_type": "markdown",
   "metadata": {},
   "source": [
    "### Merging \"Collated_4\" df with \"Religion\" df"
   ]
  },
  {
   "cell_type": "code",
   "execution_count": 88,
   "metadata": {},
   "outputs": [],
   "source": [
    "collated_df5 = pd.merge(collated_df4, df_rel_colls_filtered1, left_on='SSC_CODE_2016', right_on='SSC_CODE_2016', how='left')"
   ]
  },
  {
   "cell_type": "code",
   "execution_count": 90,
   "metadata": {},
   "outputs": [
    {
     "data": {
      "text/html": [
       "<div>\n",
       "<style scoped>\n",
       "    .dataframe tbody tr th:only-of-type {\n",
       "        vertical-align: middle;\n",
       "    }\n",
       "\n",
       "    .dataframe tbody tr th {\n",
       "        vertical-align: top;\n",
       "    }\n",
       "\n",
       "    .dataframe thead th {\n",
       "        text-align: right;\n",
       "    }\n",
       "</style>\n",
       "<table border=\"1\" class=\"dataframe\">\n",
       "  <thead>\n",
       "    <tr style=\"text-align: right;\">\n",
       "      <th></th>\n",
       "      <th>SSC_CODE_2016</th>\n",
       "      <th>Census_Name_2016_x</th>\n",
       "      <th>Median_age_persons</th>\n",
       "      <th>Median_mortgage_repay_monthly</th>\n",
       "      <th>Median_tot_prsnl_inc_weekly</th>\n",
       "      <th>Median_rent_weekly</th>\n",
       "      <th>Median_tot_fam_inc_weekly</th>\n",
       "      <th>Average_num_psns_per_bedroom</th>\n",
       "      <th>Median_tot_hhd_inc_weekly</th>\n",
       "      <th>Average_household_size</th>\n",
       "      <th>...</th>\n",
       "      <th>Percentage_of_rented_dwellings</th>\n",
       "      <th>Christianity</th>\n",
       "      <th>Hinduism</th>\n",
       "      <th>Islam</th>\n",
       "      <th>Judaism</th>\n",
       "      <th>Aborginal_Traditional_Rel</th>\n",
       "      <th>Othr_Reln_Other_reln_groups_P</th>\n",
       "      <th>Other_Religions</th>\n",
       "      <th>Secular_Beliefs_and_No_Religious_Affiliation</th>\n",
       "      <th>Religious_affiliation_ns_P</th>\n",
       "    </tr>\n",
       "  </thead>\n",
       "  <tbody>\n",
       "    <tr>\n",
       "      <th>0</th>\n",
       "      <td>SSC10001</td>\n",
       "      <td>Aarons Pass</td>\n",
       "      <td>50</td>\n",
       "      <td>0</td>\n",
       "      <td>575</td>\n",
       "      <td>0</td>\n",
       "      <td>1375</td>\n",
       "      <td>0.40</td>\n",
       "      <td>949</td>\n",
       "      <td>1.40</td>\n",
       "      <td>...</td>\n",
       "      <td>0.00</td>\n",
       "      <td>19</td>\n",
       "      <td>0</td>\n",
       "      <td>0</td>\n",
       "      <td>0</td>\n",
       "      <td>0</td>\n",
       "      <td>0</td>\n",
       "      <td>0</td>\n",
       "      <td>3</td>\n",
       "      <td>3</td>\n",
       "    </tr>\n",
       "    <tr>\n",
       "      <th>1</th>\n",
       "      <td>SSC10002</td>\n",
       "      <td>Abbotsbury</td>\n",
       "      <td>38</td>\n",
       "      <td>2167</td>\n",
       "      <td>721</td>\n",
       "      <td>505</td>\n",
       "      <td>2175</td>\n",
       "      <td>0.90</td>\n",
       "      <td>2171</td>\n",
       "      <td>3.50</td>\n",
       "      <td>...</td>\n",
       "      <td>7.90</td>\n",
       "      <td>3445</td>\n",
       "      <td>34</td>\n",
       "      <td>110</td>\n",
       "      <td>0</td>\n",
       "      <td>0</td>\n",
       "      <td>31</td>\n",
       "      <td>29</td>\n",
       "      <td>302</td>\n",
       "      <td>166</td>\n",
       "    </tr>\n",
       "    <tr>\n",
       "      <th>2</th>\n",
       "      <td>SSC10003</td>\n",
       "      <td>Abbotsford (NSW)</td>\n",
       "      <td>45</td>\n",
       "      <td>2600</td>\n",
       "      <td>965</td>\n",
       "      <td>520</td>\n",
       "      <td>2489</td>\n",
       "      <td>0.90</td>\n",
       "      <td>2006</td>\n",
       "      <td>2.30</td>\n",
       "      <td>...</td>\n",
       "      <td>36.95</td>\n",
       "      <td>3363</td>\n",
       "      <td>23</td>\n",
       "      <td>36</td>\n",
       "      <td>28</td>\n",
       "      <td>0</td>\n",
       "      <td>19</td>\n",
       "      <td>22</td>\n",
       "      <td>1286</td>\n",
       "      <td>506</td>\n",
       "    </tr>\n",
       "    <tr>\n",
       "      <th>3</th>\n",
       "      <td>SSC10004</td>\n",
       "      <td>Abercrombie</td>\n",
       "      <td>36</td>\n",
       "      <td>1733</td>\n",
       "      <td>813</td>\n",
       "      <td>370</td>\n",
       "      <td>2200</td>\n",
       "      <td>0.80</td>\n",
       "      <td>2006</td>\n",
       "      <td>3.10</td>\n",
       "      <td>...</td>\n",
       "      <td>14.33</td>\n",
       "      <td>808</td>\n",
       "      <td>3</td>\n",
       "      <td>0</td>\n",
       "      <td>0</td>\n",
       "      <td>0</td>\n",
       "      <td>0</td>\n",
       "      <td>0</td>\n",
       "      <td>213</td>\n",
       "      <td>89</td>\n",
       "    </tr>\n",
       "    <tr>\n",
       "      <th>4</th>\n",
       "      <td>SSC10005</td>\n",
       "      <td>Abercrombie River</td>\n",
       "      <td>55</td>\n",
       "      <td>0</td>\n",
       "      <td>449</td>\n",
       "      <td>0</td>\n",
       "      <td>900</td>\n",
       "      <td>0.70</td>\n",
       "      <td>833</td>\n",
       "      <td>1.60</td>\n",
       "      <td>...</td>\n",
       "      <td>27.27</td>\n",
       "      <td>4</td>\n",
       "      <td>0</td>\n",
       "      <td>0</td>\n",
       "      <td>0</td>\n",
       "      <td>0</td>\n",
       "      <td>0</td>\n",
       "      <td>0</td>\n",
       "      <td>15</td>\n",
       "      <td>3</td>\n",
       "    </tr>\n",
       "  </tbody>\n",
       "</table>\n",
       "<p>5 rows × 29 columns</p>\n",
       "</div>"
      ],
      "text/plain": [
       "  SSC_CODE_2016 Census_Name_2016_x  Median_age_persons  \\\n",
       "0      SSC10001        Aarons Pass                  50   \n",
       "1      SSC10002         Abbotsbury                  38   \n",
       "2      SSC10003   Abbotsford (NSW)                  45   \n",
       "3      SSC10004        Abercrombie                  36   \n",
       "4      SSC10005  Abercrombie River                  55   \n",
       "\n",
       "   Median_mortgage_repay_monthly  Median_tot_prsnl_inc_weekly  \\\n",
       "0                              0                          575   \n",
       "1                           2167                          721   \n",
       "2                           2600                          965   \n",
       "3                           1733                          813   \n",
       "4                              0                          449   \n",
       "\n",
       "   Median_rent_weekly  Median_tot_fam_inc_weekly  \\\n",
       "0                   0                       1375   \n",
       "1                 505                       2175   \n",
       "2                 520                       2489   \n",
       "3                 370                       2200   \n",
       "4                   0                        900   \n",
       "\n",
       "   Average_num_psns_per_bedroom  Median_tot_hhd_inc_weekly  \\\n",
       "0                          0.40                        949   \n",
       "1                          0.90                       2171   \n",
       "2                          0.90                       2006   \n",
       "3                          0.80                       2006   \n",
       "4                          0.70                        833   \n",
       "\n",
       "   Average_household_size             ...              \\\n",
       "0                    1.40             ...               \n",
       "1                    3.50             ...               \n",
       "2                    2.30             ...               \n",
       "3                    3.10             ...               \n",
       "4                    1.60             ...               \n",
       "\n",
       "  Percentage_of_rented_dwellings Christianity  Hinduism  Islam  Judaism  \\\n",
       "0                           0.00           19         0      0        0   \n",
       "1                           7.90         3445        34    110        0   \n",
       "2                          36.95         3363        23     36       28   \n",
       "3                          14.33          808         3      0        0   \n",
       "4                          27.27            4         0      0        0   \n",
       "\n",
       "   Aborginal_Traditional_Rel  Othr_Reln_Other_reln_groups_P  Other_Religions  \\\n",
       "0                          0                              0                0   \n",
       "1                          0                             31               29   \n",
       "2                          0                             19               22   \n",
       "3                          0                              0                0   \n",
       "4                          0                              0                0   \n",
       "\n",
       "   Secular_Beliefs_and_No_Religious_Affiliation  Religious_affiliation_ns_P  \n",
       "0                                             3                           3  \n",
       "1                                           302                         166  \n",
       "2                                          1286                         506  \n",
       "3                                           213                          89  \n",
       "4                                            15                           3  \n",
       "\n",
       "[5 rows x 29 columns]"
      ]
     },
     "execution_count": 90,
     "metadata": {},
     "output_type": "execute_result"
    }
   ],
   "source": [
    "collated_df5.head()"
   ]
  },
  {
   "cell_type": "code",
   "execution_count": 91,
   "metadata": {},
   "outputs": [
    {
     "data": {
      "text/html": [
       "<div>\n",
       "<style scoped>\n",
       "    .dataframe tbody tr th:only-of-type {\n",
       "        vertical-align: middle;\n",
       "    }\n",
       "\n",
       "    .dataframe tbody tr th {\n",
       "        vertical-align: top;\n",
       "    }\n",
       "\n",
       "    .dataframe thead th {\n",
       "        text-align: right;\n",
       "    }\n",
       "</style>\n",
       "<table border=\"1\" class=\"dataframe\">\n",
       "  <thead>\n",
       "    <tr style=\"text-align: right;\">\n",
       "      <th></th>\n",
       "      <th>SSC_CODE_2016</th>\n",
       "      <th>Census_Name_2016_x</th>\n",
       "      <th>Median_age_persons</th>\n",
       "      <th>Median_mortgage_repay_monthly</th>\n",
       "      <th>Median_tot_prsnl_inc_weekly</th>\n",
       "      <th>Median_rent_weekly</th>\n",
       "      <th>Median_tot_fam_inc_weekly</th>\n",
       "      <th>Average_num_psns_per_bedroom</th>\n",
       "      <th>Median_tot_hhd_inc_weekly</th>\n",
       "      <th>Average_household_size</th>\n",
       "      <th>...</th>\n",
       "      <th>Percentage_of_rented_dwellings</th>\n",
       "      <th>Christianity</th>\n",
       "      <th>Hinduism</th>\n",
       "      <th>Islam</th>\n",
       "      <th>Judaism</th>\n",
       "      <th>Aborginal_Traditional_Rel</th>\n",
       "      <th>Othr_Reln_Other_reln_groups_P</th>\n",
       "      <th>Other_Religions</th>\n",
       "      <th>Secular_Beliefs_and_No_Religious_Affiliation</th>\n",
       "      <th>Religious_affiliation_ns_P</th>\n",
       "    </tr>\n",
       "  </thead>\n",
       "  <tbody>\n",
       "    <tr>\n",
       "      <th>3155</th>\n",
       "      <td>SSC13156</td>\n",
       "      <td>Parramatta</td>\n",
       "      <td>31.00</td>\n",
       "      <td>1874.00</td>\n",
       "      <td>755.00</td>\n",
       "      <td>430.00</td>\n",
       "      <td>1802.00</td>\n",
       "      <td>1.30</td>\n",
       "      <td>1739.00</td>\n",
       "      <td>2.60</td>\n",
       "      <td>...</td>\n",
       "      <td>68.42</td>\n",
       "      <td>6305.00</td>\n",
       "      <td>7353.00</td>\n",
       "      <td>1605.00</td>\n",
       "      <td>12.00</td>\n",
       "      <td>3.00</td>\n",
       "      <td>240.00</td>\n",
       "      <td>854.00</td>\n",
       "      <td>5617.00</td>\n",
       "      <td>2977.00</td>\n",
       "    </tr>\n",
       "  </tbody>\n",
       "</table>\n",
       "<p>1 rows × 29 columns</p>\n",
       "</div>"
      ],
      "text/plain": [
       "     SSC_CODE_2016 Census_Name_2016_x  Median_age_persons  \\\n",
       "3155      SSC13156         Parramatta               31.00   \n",
       "\n",
       "      Median_mortgage_repay_monthly  Median_tot_prsnl_inc_weekly  \\\n",
       "3155                        1874.00                       755.00   \n",
       "\n",
       "      Median_rent_weekly  Median_tot_fam_inc_weekly  \\\n",
       "3155              430.00                    1802.00   \n",
       "\n",
       "      Average_num_psns_per_bedroom  Median_tot_hhd_inc_weekly  \\\n",
       "3155                          1.30                    1739.00   \n",
       "\n",
       "      Average_household_size             ...              \\\n",
       "3155                    2.60             ...               \n",
       "\n",
       "     Percentage_of_rented_dwellings Christianity  Hinduism   Islam  Judaism  \\\n",
       "3155                          68.42      6305.00   7353.00 1605.00    12.00   \n",
       "\n",
       "      Aborginal_Traditional_Rel  Othr_Reln_Other_reln_groups_P  \\\n",
       "3155                       3.00                         240.00   \n",
       "\n",
       "      Other_Religions  Secular_Beliefs_and_No_Religious_Affiliation  \\\n",
       "3155           854.00                                       5617.00   \n",
       "\n",
       "      Religious_affiliation_ns_P  \n",
       "3155                     2977.00  \n",
       "\n",
       "[1 rows x 29 columns]"
      ]
     },
     "execution_count": 91,
     "metadata": {},
     "output_type": "execute_result"
    }
   ],
   "source": [
    "collated_df5.where(merged['SSC_CODE_2016'] =='SSC13156').dropna()"
   ]
  },
  {
   "cell_type": "code",
   "execution_count": null,
   "metadata": {},
   "outputs": [],
   "source": []
  }
 ],
 "metadata": {
  "kernelspec": {
   "display_name": "Python 3",
   "language": "python",
   "name": "python3"
  },
  "language_info": {
   "codemirror_mode": {
    "name": "ipython",
    "version": 3
   },
   "file_extension": ".py",
   "mimetype": "text/x-python",
   "name": "python",
   "nbconvert_exporter": "python",
   "pygments_lexer": "ipython3",
   "version": "3.6.6"
  }
 },
 "nbformat": 4,
 "nbformat_minor": 2
}
