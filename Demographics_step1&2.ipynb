{
 "cells": [
  {
   "cell_type": "code",
   "execution_count": 2,
   "metadata": {},
   "outputs": [],
   "source": [
    "import pandas as pd"
   ]
  },
  {
   "cell_type": "markdown",
   "metadata": {},
   "source": [
    "# Step:1"
   ]
  },
  {
   "cell_type": "code",
   "execution_count": 3,
   "metadata": {},
   "outputs": [
    {
     "name": "stdout",
     "output_type": "stream",
     "text": [
      "/home/jovyan/Property_proj/Data/2016_GCP_SSC_for_NSW_short-header/Metadata/2016Census_geog_desc_1st_and_2nd_release.xlsx\r\n"
     ]
    }
   ],
   "source": [
    "!ls /home/jovyan/Property_proj/Data/2016_GCP_SSC_for_NSW_short-header/Metadata/2016Census_geog_desc_1st_and_2nd_release.xlsx"
   ]
  },
  {
   "cell_type": "code",
   "execution_count": 4,
   "metadata": {},
   "outputs": [
    {
     "name": "stderr",
     "output_type": "stream",
     "text": [
      "/opt/conda/lib/python3.6/site-packages/pandas/io/excel.py:329: FutureWarning: The `sheetname` keyword is deprecated, use `sheet_name` instead\n",
      "  **kwds)\n"
     ]
    }
   ],
   "source": [
    "##read data file\n",
    "df=pd.read_csv('/home/jovyan/Property_proj/Data/2016_GCP_SSC_for_NSW_short-header/2016_Census_NSW_suburbs/2016Census_G02_NSW_SSC.csv')\n",
    "##read meta data(suburb code to name mapping)\n",
    "df_ref_data = pd.read_excel('/home/jovyan/Property_proj/Data/2016_GCP_SSC_for_NSW_short-header/Metadata/2016Census_geog_desc_1st_and_2nd_release.xlsx', index_col=None,\n",
    "                  sheetname ='2016_ASGS_Non-ABS_Structures')"
   ]
  },
  {
   "cell_type": "code",
   "execution_count": 5,
   "metadata": {},
   "outputs": [],
   "source": [
    "#df=df.drop_duplicates(subset='SSC_CODE_2016', keep=False)\n",
    "merged = pd.merge(df, df_ref_data, left_on='SSC_CODE_2016', right_on='Census_Code_2016', how='left')"
   ]
  },
  {
   "cell_type": "code",
   "execution_count": 6,
   "metadata": {},
   "outputs": [
    {
     "data": {
      "text/html": [
       "<div>\n",
       "<style scoped>\n",
       "    .dataframe tbody tr th:only-of-type {\n",
       "        vertical-align: middle;\n",
       "    }\n",
       "\n",
       "    .dataframe tbody tr th {\n",
       "        vertical-align: top;\n",
       "    }\n",
       "\n",
       "    .dataframe thead th {\n",
       "        text-align: right;\n",
       "    }\n",
       "</style>\n",
       "<table border=\"1\" class=\"dataframe\">\n",
       "  <thead>\n",
       "    <tr style=\"text-align: right;\">\n",
       "      <th></th>\n",
       "      <th>SSC_CODE_2016</th>\n",
       "      <th>Median_age_persons</th>\n",
       "      <th>Median_mortgage_repay_monthly</th>\n",
       "      <th>Median_tot_prsnl_inc_weekly</th>\n",
       "      <th>Median_rent_weekly</th>\n",
       "      <th>Median_tot_fam_inc_weekly</th>\n",
       "      <th>Average_num_psns_per_bedroom</th>\n",
       "      <th>Median_tot_hhd_inc_weekly</th>\n",
       "      <th>Average_household_size</th>\n",
       "      <th>ASGS_Structure</th>\n",
       "      <th>Census_Code_2016</th>\n",
       "      <th>ASGS_Code_2016</th>\n",
       "      <th>Census_Name_2016</th>\n",
       "      <th>Area sqkm</th>\n",
       "    </tr>\n",
       "  </thead>\n",
       "  <tbody>\n",
       "    <tr>\n",
       "      <th>0</th>\n",
       "      <td>SSC10001</td>\n",
       "      <td>50</td>\n",
       "      <td>0</td>\n",
       "      <td>575</td>\n",
       "      <td>0</td>\n",
       "      <td>1375</td>\n",
       "      <td>0.4</td>\n",
       "      <td>949</td>\n",
       "      <td>1.4</td>\n",
       "      <td>SSC</td>\n",
       "      <td>SSC10001</td>\n",
       "      <td>10001</td>\n",
       "      <td>Aarons Pass</td>\n",
       "      <td>82.7639</td>\n",
       "    </tr>\n",
       "    <tr>\n",
       "      <th>1</th>\n",
       "      <td>SSC10002</td>\n",
       "      <td>38</td>\n",
       "      <td>2167</td>\n",
       "      <td>721</td>\n",
       "      <td>505</td>\n",
       "      <td>2175</td>\n",
       "      <td>0.9</td>\n",
       "      <td>2171</td>\n",
       "      <td>3.5</td>\n",
       "      <td>SSC</td>\n",
       "      <td>SSC10002</td>\n",
       "      <td>10002</td>\n",
       "      <td>Abbotsbury</td>\n",
       "      <td>4.9788</td>\n",
       "    </tr>\n",
       "    <tr>\n",
       "      <th>2</th>\n",
       "      <td>SSC10003</td>\n",
       "      <td>45</td>\n",
       "      <td>2600</td>\n",
       "      <td>965</td>\n",
       "      <td>520</td>\n",
       "      <td>2489</td>\n",
       "      <td>0.9</td>\n",
       "      <td>2006</td>\n",
       "      <td>2.3</td>\n",
       "      <td>SSC</td>\n",
       "      <td>SSC10003</td>\n",
       "      <td>10003</td>\n",
       "      <td>Abbotsford (NSW)</td>\n",
       "      <td>1.0180</td>\n",
       "    </tr>\n",
       "    <tr>\n",
       "      <th>3</th>\n",
       "      <td>SSC10004</td>\n",
       "      <td>36</td>\n",
       "      <td>1733</td>\n",
       "      <td>813</td>\n",
       "      <td>370</td>\n",
       "      <td>2200</td>\n",
       "      <td>0.8</td>\n",
       "      <td>2006</td>\n",
       "      <td>3.1</td>\n",
       "      <td>SSC</td>\n",
       "      <td>SSC10004</td>\n",
       "      <td>10004</td>\n",
       "      <td>Abercrombie</td>\n",
       "      <td>2.9775</td>\n",
       "    </tr>\n",
       "    <tr>\n",
       "      <th>4</th>\n",
       "      <td>SSC10005</td>\n",
       "      <td>55</td>\n",
       "      <td>0</td>\n",
       "      <td>449</td>\n",
       "      <td>0</td>\n",
       "      <td>900</td>\n",
       "      <td>0.7</td>\n",
       "      <td>833</td>\n",
       "      <td>1.6</td>\n",
       "      <td>SSC</td>\n",
       "      <td>SSC10005</td>\n",
       "      <td>10005</td>\n",
       "      <td>Abercrombie River</td>\n",
       "      <td>127.1701</td>\n",
       "    </tr>\n",
       "  </tbody>\n",
       "</table>\n",
       "</div>"
      ],
      "text/plain": [
       "  SSC_CODE_2016  Median_age_persons  Median_mortgage_repay_monthly  \\\n",
       "0      SSC10001                  50                              0   \n",
       "1      SSC10002                  38                           2167   \n",
       "2      SSC10003                  45                           2600   \n",
       "3      SSC10004                  36                           1733   \n",
       "4      SSC10005                  55                              0   \n",
       "\n",
       "   Median_tot_prsnl_inc_weekly  Median_rent_weekly  Median_tot_fam_inc_weekly  \\\n",
       "0                          575                   0                       1375   \n",
       "1                          721                 505                       2175   \n",
       "2                          965                 520                       2489   \n",
       "3                          813                 370                       2200   \n",
       "4                          449                   0                        900   \n",
       "\n",
       "   Average_num_psns_per_bedroom  Median_tot_hhd_inc_weekly  \\\n",
       "0                           0.4                        949   \n",
       "1                           0.9                       2171   \n",
       "2                           0.9                       2006   \n",
       "3                           0.8                       2006   \n",
       "4                           0.7                        833   \n",
       "\n",
       "   Average_household_size ASGS_Structure Census_Code_2016  ASGS_Code_2016  \\\n",
       "0                     1.4            SSC         SSC10001           10001   \n",
       "1                     3.5            SSC         SSC10002           10002   \n",
       "2                     2.3            SSC         SSC10003           10003   \n",
       "3                     3.1            SSC         SSC10004           10004   \n",
       "4                     1.6            SSC         SSC10005           10005   \n",
       "\n",
       "    Census_Name_2016  Area sqkm  \n",
       "0        Aarons Pass    82.7639  \n",
       "1         Abbotsbury     4.9788  \n",
       "2   Abbotsford (NSW)     1.0180  \n",
       "3        Abercrombie     2.9775  \n",
       "4  Abercrombie River   127.1701  "
      ]
     },
     "execution_count": 6,
     "metadata": {},
     "output_type": "execute_result"
    }
   ],
   "source": [
    "merged.head()"
   ]
  },
  {
   "cell_type": "markdown",
   "metadata": {},
   "source": [
    "# Df with basic aggrigated information\n",
    "####  Median_age_persons, Median_mortgage_repay_monthly, Median_tot_prsnl_inc_weekly, Median_rent_weekly, Median_tot_fam_inc_weekly, Average_num_psns_per_bedroom, Median_tot_hhd_inc_weekly, Average_household_size\n"
   ]
  },
  {
   "cell_type": "code",
   "execution_count": 9,
   "metadata": {},
   "outputs": [
    {
     "data": {
      "text/plain": [
       "Index(['SSC_CODE_2016', 'Census_Name_2016', 'Median_age_persons',\n",
       "       'Median_mortgage_repay_monthly', 'Median_tot_prsnl_inc_weekly',\n",
       "       'Median_rent_weekly', 'Median_tot_fam_inc_weekly',\n",
       "       'Average_num_psns_per_bedroom', 'Median_tot_hhd_inc_weekly',\n",
       "       'Average_household_size'],\n",
       "      dtype='object')"
      ]
     },
     "execution_count": 9,
     "metadata": {},
     "output_type": "execute_result"
    }
   ],
   "source": [
    "merged_selected=merged[['SSC_CODE_2016','Census_Name_2016', 'Median_age_persons', 'Median_mortgage_repay_monthly',\n",
    "       'Median_tot_prsnl_inc_weekly', 'Median_rent_weekly',\n",
    "       'Median_tot_fam_inc_weekly', 'Average_num_psns_per_bedroom',\n",
    "       'Median_tot_hhd_inc_weekly', 'Average_household_size']]\n",
    "\n",
    "\n",
    "merged_selected.columns"
   ]
  },
  {
   "cell_type": "markdown",
   "metadata": {},
   "source": [
    "# Step: 2"
   ]
  },
  {
   "cell_type": "code",
   "execution_count": 10,
   "metadata": {},
   "outputs": [],
   "source": [
    "df1=pd.read_csv('/home/jovyan/Property_proj/Data/2016_GCP_SSC_for_NSW_short-header/2016_Census_NSW_suburbs/2016Census_G10A_NSW_SSC.csv')\n",
    "df1=df1.set_index('SSC_CODE_2016')\n",
    "df1_1=df1.filter(regex='Tot')\n",
    "#df1_1.head()"
   ]
  },
  {
   "cell_type": "code",
   "execution_count": 11,
   "metadata": {},
   "outputs": [],
   "source": [
    "import io\n",
    "import numpy as np\n",
    "import xlrd\n",
    "import os\n",
    "import pandas as pd\n",
    "import fnmatch\n",
    "pd.options.display.float_format = '{:.2f}'.format\n",
    "\n",
    "\n",
    "#/Users/vsam/Documents/Property_proj/Data/2016_GCP_SSC_for_NSW_short-header/2016_Census_NSW_suburbs\n"
   ]
  },
  {
   "cell_type": "code",
   "execution_count": 12,
   "metadata": {
    "scrolled": true
   },
   "outputs": [],
   "source": [
    "dir_path='/home/jovyan/Property_proj/Data/2016_GCP_SSC_for_NSW_short-header/2016_Census_NSW_suburbs'\n",
    "test_merg=merged_selected\n",
    "#test_merg.columns"
   ]
  },
  {
   "cell_type": "code",
   "execution_count": 15,
   "metadata": {},
   "outputs": [],
   "source": [
    "def my_function1(dir_path,file_classification):\n",
    "    test_merg=merged_selected\n",
    "    all_files=os.listdir(dir_path)\n",
    "    csv_files=[f for f in all_files if f.endswith((\".csv\"))]\n",
    "    needed_file=[]\n",
    "    \n",
    "    my_regex= '*' + file_classification + '*'\n",
    "    \n",
    "    for file in csv_files:\n",
    "        if fnmatch.fnmatch(file, my_regex):\n",
    "            needed_file.append(file)\n",
    "    \n",
    "    #print(needed_file)\n",
    "    \n",
    "    for file in needed_file:\n",
    "        df=pd.read_csv(dir_path + '/' + file)\n",
    "        df=df.set_index('SSC_CODE_2016')\n",
    "        df=df.filter(regex='_Tot')\n",
    "        test_merg = pd.merge(test_merg, df, left_on='SSC_CODE_2016', right_on='SSC_CODE_2016', how='left')\n",
    "    \n",
    "    return test_merg\n",
    "    \n"
   ]
  },
  {
   "cell_type": "code",
   "execution_count": 35,
   "metadata": {},
   "outputs": [
    {
     "data": {
      "text/html": [
       "<div>\n",
       "<style scoped>\n",
       "    .dataframe tbody tr th:only-of-type {\n",
       "        vertical-align: middle;\n",
       "    }\n",
       "\n",
       "    .dataframe tbody tr th {\n",
       "        vertical-align: top;\n",
       "    }\n",
       "\n",
       "    .dataframe thead th {\n",
       "        text-align: right;\n",
       "    }\n",
       "</style>\n",
       "<table border=\"1\" class=\"dataframe\">\n",
       "  <thead>\n",
       "    <tr style=\"text-align: right;\">\n",
       "      <th></th>\n",
       "      <th>SSC_CODE_2016</th>\n",
       "      <th>Census_Name_2016</th>\n",
       "      <th>Median_age_persons</th>\n",
       "      <th>Median_mortgage_repay_monthly</th>\n",
       "      <th>Median_tot_prsnl_inc_weekly</th>\n",
       "      <th>Median_rent_weekly</th>\n",
       "      <th>Median_tot_fam_inc_weekly</th>\n",
       "      <th>Average_num_psns_per_bedroom</th>\n",
       "      <th>Median_tot_hhd_inc_weekly</th>\n",
       "      <th>Average_household_size</th>\n",
       "      <th>...</th>\n",
       "      <th>Croatia_Tot</th>\n",
       "      <th>Egypt_Tot</th>\n",
       "      <th>Fiji_Tot</th>\n",
       "      <th>Germany_Tot</th>\n",
       "      <th>Greece_Tot</th>\n",
       "      <th>Hong_Kong_SAR_China_Tot</th>\n",
       "      <th>India_Tot</th>\n",
       "      <th>Indonesia_Tot</th>\n",
       "      <th>Iran_Tot</th>\n",
       "      <th>Iraq_Tot</th>\n",
       "    </tr>\n",
       "  </thead>\n",
       "  <tbody>\n",
       "    <tr>\n",
       "      <th>13</th>\n",
       "      <td>SSC10014</td>\n",
       "      <td>Acacia Gardens</td>\n",
       "      <td>34.00</td>\n",
       "      <td>2383.00</td>\n",
       "      <td>905.00</td>\n",
       "      <td>520.00</td>\n",
       "      <td>2367.00</td>\n",
       "      <td>0.90</td>\n",
       "      <td>2378.00</td>\n",
       "      <td>3.40</td>\n",
       "      <td>...</td>\n",
       "      <td>8.00</td>\n",
       "      <td>22.00</td>\n",
       "      <td>73.00</td>\n",
       "      <td>5.00</td>\n",
       "      <td>6.00</td>\n",
       "      <td>17.00</td>\n",
       "      <td>440.00</td>\n",
       "      <td>38.00</td>\n",
       "      <td>28.00</td>\n",
       "      <td>5.00</td>\n",
       "    </tr>\n",
       "  </tbody>\n",
       "</table>\n",
       "<p>1 rows × 46 columns</p>\n",
       "</div>"
      ],
      "text/plain": [
       "   SSC_CODE_2016 Census_Name_2016  Median_age_persons  \\\n",
       "13      SSC10014   Acacia Gardens               34.00   \n",
       "\n",
       "    Median_mortgage_repay_monthly  Median_tot_prsnl_inc_weekly  \\\n",
       "13                        2383.00                       905.00   \n",
       "\n",
       "    Median_rent_weekly  Median_tot_fam_inc_weekly  \\\n",
       "13              520.00                    2367.00   \n",
       "\n",
       "    Average_num_psns_per_bedroom  Median_tot_hhd_inc_weekly  \\\n",
       "13                          0.90                    2378.00   \n",
       "\n",
       "    Average_household_size    ...     Croatia_Tot  Egypt_Tot  Fiji_Tot  \\\n",
       "13                    3.40    ...            8.00      22.00     73.00   \n",
       "\n",
       "    Germany_Tot  Greece_Tot  Hong_Kong_SAR_China_Tot  India_Tot  \\\n",
       "13         5.00        6.00                    17.00     440.00   \n",
       "\n",
       "    Indonesia_Tot  Iran_Tot  Iraq_Tot  \n",
       "13          38.00     28.00      5.00  \n",
       "\n",
       "[1 rows x 46 columns]"
      ]
     },
     "execution_count": 35,
     "metadata": {},
     "output_type": "execute_result"
    }
   ],
   "source": [
    "#Function call to load one category of files\n",
    "a=my_function1(\"/home/jovyan/Property_proj/Data/2016_GCP_SSC_for_NSW_short-header/2016_Census_NSW_suburbs\", \"G10\")\n",
    "#select a suburb\n",
    "b=a.where(a['SSC_CODE_2016']=='SSC10014').dropna()\n",
    "b"
   ]
  },
  {
   "cell_type": "code",
   "execution_count": 33,
   "metadata": {},
   "outputs": [
    {
     "data": {
      "text/plain": [
       "Index(['SSC_CODE_2016', 'Census_Name_2016', 'Median_age_persons',\n",
       "       'Median_mortgage_repay_monthly', 'Median_tot_prsnl_inc_weekly',\n",
       "       'Median_rent_weekly', 'Median_tot_fam_inc_weekly',\n",
       "       'Average_num_psns_per_bedroom', 'Median_tot_hhd_inc_weekly',\n",
       "       'Average_household_size', 'South_Africa_Tot', 'Sri_Lanka_Tot',\n",
       "       'Thailand_Tot', 'FYROM_Tot', 'Turkey_Tot', 'United_Kingdom_Tot',\n",
       "       'USA_Total', 'Vietnam_Tot', 'Zimbabwe_Tot', 'Born_elsewhere_Tot',\n",
       "       'Tot_Tot', 'Ireland_Tot', 'Italy_Tot', 'Japan_Tot',\n",
       "       'Korea_Republic_South_Tot', 'Lebanon_Tot', 'Malaysia_Tot', 'Malta_Tot',\n",
       "       'Netherlands_Tot', 'New_Zealand_Tot', 'Pakistan_Tot', 'Philippines_Tot',\n",
       "       'Poland_Tot', 'Singapore_Tot', 'Canada_Tot',\n",
       "       'China_exc_SARs_Taiwan_Tot', 'Croatia_Tot', 'Egypt_Tot', 'Fiji_Tot',\n",
       "       'Germany_Tot', 'Greece_Tot', 'Hong_Kong_SAR_China_Tot', 'India_Tot',\n",
       "       'Indonesia_Tot', 'Iran_Tot', 'Iraq_Tot'],\n",
       "      dtype='object')"
      ]
     },
     "execution_count": 33,
     "metadata": {},
     "output_type": "execute_result"
    }
   ],
   "source": [
    "a.columns"
   ]
  },
  {
   "cell_type": "code",
   "execution_count": null,
   "metadata": {},
   "outputs": [],
   "source": []
  },
  {
   "cell_type": "code",
   "execution_count": null,
   "metadata": {},
   "outputs": [],
   "source": []
  },
  {
   "cell_type": "code",
   "execution_count": null,
   "metadata": {},
   "outputs": [],
   "source": [
    "id, 1st_country, 1st_tot, 2nd_coun, \n",
    "parra, india, 222\n"
   ]
  },
  {
   "cell_type": "code",
   "execution_count": null,
   "metadata": {},
   "outputs": [],
   "source": [
    "id, Croatia_Tot,Egypt_Tot,Fiji_Tot,Germany_Tot\n",
    "id, india_Tot,Croatia_Tot,Egypt_Tot,Fiji_Tot"
   ]
  }
 ],
 "metadata": {
  "kernelspec": {
   "display_name": "Python 3",
   "language": "python",
   "name": "python3"
  },
  "language_info": {
   "codemirror_mode": {
    "name": "ipython",
    "version": 3
   },
   "file_extension": ".py",
   "mimetype": "text/x-python",
   "name": "python",
   "nbconvert_exporter": "python",
   "pygments_lexer": "ipython3",
   "version": "3.6.6"
  }
 },
 "nbformat": 4,
 "nbformat_minor": 2
}
