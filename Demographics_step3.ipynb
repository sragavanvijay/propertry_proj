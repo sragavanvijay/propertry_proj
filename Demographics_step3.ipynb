{
 "cells": [
  {
   "cell_type": "code",
   "execution_count": 13,
   "metadata": {},
   "outputs": [],
   "source": [
    "import pandas as pd"
   ]
  },
  {
   "cell_type": "code",
   "execution_count": 14,
   "metadata": {},
   "outputs": [
    {
     "name": "stdout",
     "output_type": "stream",
     "text": [
      "ls: cannot access '/home/jovyan/Property_proj/Data/2016_GCP_SSC_for_NSW_short-header/2016_Census_NSW_suburbs/2016Census_G38_NSW_SSC.csv': No such file or directory\r\n"
     ]
    }
   ],
   "source": [
    "!ls /home/jovyan/Property_proj/Data/2016_GCP_SSC_for_NSW_short-header/2016_Census_NSW_suburbs/2016Census_G38_NSW_SSC.csv"
   ]
  },
  {
   "cell_type": "code",
   "execution_count": 15,
   "metadata": {},
   "outputs": [],
   "source": [
    "##read data file\n",
    "df=pd.read_csv('/home/jovyan/Property_proj/Data/2016_Census_NSW_Suburbs/2016_Census_NSW_suburbs/2016Census_G33_NSW_SSC.csv')\n",
    "##read meta data(suburb code to name mapping)\n",
    "df_ref_data = pd.read_excel('/home/jovyan/Property_proj/Data/2016_Census_NSW_Suburbs/Metadata/2016Census_geog_desc_1st_and_2nd_release.xlsx', index_col=None,\n",
    "                  sheetname ='2016_ASGS_Non-ABS_Structures')"
   ]
  },
  {
   "cell_type": "markdown",
   "metadata": {},
   "source": [
    "# Step 3: Dwelling Structure"
   ]
  },
  {
   "cell_type": "code",
   "execution_count": 16,
   "metadata": {},
   "outputs": [
    {
     "data": {
      "text/html": [
       "<div>\n",
       "<style scoped>\n",
       "    .dataframe tbody tr th:only-of-type {\n",
       "        vertical-align: middle;\n",
       "    }\n",
       "\n",
       "    .dataframe tbody tr th {\n",
       "        vertical-align: top;\n",
       "    }\n",
       "\n",
       "    .dataframe thead th {\n",
       "        text-align: right;\n",
       "    }\n",
       "</style>\n",
       "<table border=\"1\" class=\"dataframe\">\n",
       "  <thead>\n",
       "    <tr style=\"text-align: right;\">\n",
       "      <th></th>\n",
       "      <th>SSC_CODE_2016</th>\n",
       "      <th>R_Tot_Total</th>\n",
       "      <th>Total_DS_Sep_house</th>\n",
       "      <th>Total_DS_SemiD_ro_or_tce_h_th</th>\n",
       "      <th>Total_DS_Flat_apart</th>\n",
       "      <th>Total_DS_Oth_dwell</th>\n",
       "      <th>Total_DS_not_stated</th>\n",
       "      <th>Total_Total</th>\n",
       "    </tr>\n",
       "  </thead>\n",
       "  <tbody>\n",
       "    <tr>\n",
       "      <th>0</th>\n",
       "      <td>SSC10001</td>\n",
       "      <td>0</td>\n",
       "      <td>6</td>\n",
       "      <td>0</td>\n",
       "      <td>0</td>\n",
       "      <td>0</td>\n",
       "      <td>0</td>\n",
       "      <td>6</td>\n",
       "    </tr>\n",
       "    <tr>\n",
       "      <th>1</th>\n",
       "      <td>SSC10002</td>\n",
       "      <td>95</td>\n",
       "      <td>1180</td>\n",
       "      <td>20</td>\n",
       "      <td>0</td>\n",
       "      <td>0</td>\n",
       "      <td>0</td>\n",
       "      <td>1203</td>\n",
       "    </tr>\n",
       "    <tr>\n",
       "      <th>2</th>\n",
       "      <td>SSC10003</td>\n",
       "      <td>800</td>\n",
       "      <td>623</td>\n",
       "      <td>328</td>\n",
       "      <td>1184</td>\n",
       "      <td>10</td>\n",
       "      <td>12</td>\n",
       "      <td>2165</td>\n",
       "    </tr>\n",
       "    <tr>\n",
       "      <th>3</th>\n",
       "      <td>SSC10004</td>\n",
       "      <td>50</td>\n",
       "      <td>336</td>\n",
       "      <td>14</td>\n",
       "      <td>0</td>\n",
       "      <td>0</td>\n",
       "      <td>0</td>\n",
       "      <td>349</td>\n",
       "    </tr>\n",
       "    <tr>\n",
       "      <th>4</th>\n",
       "      <td>SSC10005</td>\n",
       "      <td>3</td>\n",
       "      <td>11</td>\n",
       "      <td>0</td>\n",
       "      <td>0</td>\n",
       "      <td>0</td>\n",
       "      <td>0</td>\n",
       "      <td>11</td>\n",
       "    </tr>\n",
       "  </tbody>\n",
       "</table>\n",
       "</div>"
      ],
      "text/plain": [
       "  SSC_CODE_2016  R_Tot_Total  Total_DS_Sep_house  \\\n",
       "0      SSC10001            0                   6   \n",
       "1      SSC10002           95                1180   \n",
       "2      SSC10003          800                 623   \n",
       "3      SSC10004           50                 336   \n",
       "4      SSC10005            3                  11   \n",
       "\n",
       "   Total_DS_SemiD_ro_or_tce_h_th  Total_DS_Flat_apart  Total_DS_Oth_dwell  \\\n",
       "0                              0                    0                   0   \n",
       "1                             20                    0                   0   \n",
       "2                            328                 1184                  10   \n",
       "3                             14                    0                   0   \n",
       "4                              0                    0                   0   \n",
       "\n",
       "   Total_DS_not_stated  Total_Total  \n",
       "0                    0            6  \n",
       "1                    0         1203  \n",
       "2                   12         2165  \n",
       "3                    0          349  \n",
       "4                    0           11  "
      ]
     },
     "execution_count": 16,
     "metadata": {},
     "output_type": "execute_result"
    }
   ],
   "source": [
    "df.set_index('SSC_CODE_2016')\n",
    "\n",
    "df1=df[['SSC_CODE_2016','R_Tot_Total','Total_DS_Sep_house','Total_DS_SemiD_ro_or_tce_h_th','Total_DS_Flat_apart','Total_DS_Oth_dwell','Total_DS_not_stated','Total_Total']]\n",
    "df1.head()"
   ]
  },
  {
   "cell_type": "code",
   "execution_count": 20,
   "metadata": {},
   "outputs": [],
   "source": [
    "df1.columns=['SSC_CODE_2016','Total_rented_dwellings','Separate_house_Total','Town_house_and_similar','Flats_appartments','Other_Dwellings','Dweling_structur_NS','Total_dwellings']"
   ]
  },
  {
   "cell_type": "code",
   "execution_count": 21,
   "metadata": {},
   "outputs": [
    {
     "data": {
      "text/html": [
       "<div>\n",
       "<style scoped>\n",
       "    .dataframe tbody tr th:only-of-type {\n",
       "        vertical-align: middle;\n",
       "    }\n",
       "\n",
       "    .dataframe tbody tr th {\n",
       "        vertical-align: top;\n",
       "    }\n",
       "\n",
       "    .dataframe thead th {\n",
       "        text-align: right;\n",
       "    }\n",
       "</style>\n",
       "<table border=\"1\" class=\"dataframe\">\n",
       "  <thead>\n",
       "    <tr style=\"text-align: right;\">\n",
       "      <th></th>\n",
       "      <th>SSC_CODE_2016</th>\n",
       "      <th>Total_rented_dwellings</th>\n",
       "      <th>Separate_house_Total</th>\n",
       "      <th>Town_house_and_similar</th>\n",
       "      <th>Flats_appartments</th>\n",
       "      <th>Other_Dwellings</th>\n",
       "      <th>Dweling_structur_NS</th>\n",
       "      <th>Total_dwellings</th>\n",
       "    </tr>\n",
       "  </thead>\n",
       "  <tbody>\n",
       "    <tr>\n",
       "      <th>0</th>\n",
       "      <td>SSC10001</td>\n",
       "      <td>0</td>\n",
       "      <td>6</td>\n",
       "      <td>0</td>\n",
       "      <td>0</td>\n",
       "      <td>0</td>\n",
       "      <td>0</td>\n",
       "      <td>6</td>\n",
       "    </tr>\n",
       "    <tr>\n",
       "      <th>1</th>\n",
       "      <td>SSC10002</td>\n",
       "      <td>95</td>\n",
       "      <td>1180</td>\n",
       "      <td>20</td>\n",
       "      <td>0</td>\n",
       "      <td>0</td>\n",
       "      <td>0</td>\n",
       "      <td>1203</td>\n",
       "    </tr>\n",
       "    <tr>\n",
       "      <th>2</th>\n",
       "      <td>SSC10003</td>\n",
       "      <td>800</td>\n",
       "      <td>623</td>\n",
       "      <td>328</td>\n",
       "      <td>1184</td>\n",
       "      <td>10</td>\n",
       "      <td>12</td>\n",
       "      <td>2165</td>\n",
       "    </tr>\n",
       "    <tr>\n",
       "      <th>3</th>\n",
       "      <td>SSC10004</td>\n",
       "      <td>50</td>\n",
       "      <td>336</td>\n",
       "      <td>14</td>\n",
       "      <td>0</td>\n",
       "      <td>0</td>\n",
       "      <td>0</td>\n",
       "      <td>349</td>\n",
       "    </tr>\n",
       "    <tr>\n",
       "      <th>4</th>\n",
       "      <td>SSC10005</td>\n",
       "      <td>3</td>\n",
       "      <td>11</td>\n",
       "      <td>0</td>\n",
       "      <td>0</td>\n",
       "      <td>0</td>\n",
       "      <td>0</td>\n",
       "      <td>11</td>\n",
       "    </tr>\n",
       "  </tbody>\n",
       "</table>\n",
       "</div>"
      ],
      "text/plain": [
       "  SSC_CODE_2016  Total_rented_dwellings  Separate_house_Total  \\\n",
       "0      SSC10001                       0                     6   \n",
       "1      SSC10002                      95                  1180   \n",
       "2      SSC10003                     800                   623   \n",
       "3      SSC10004                      50                   336   \n",
       "4      SSC10005                       3                    11   \n",
       "\n",
       "   Town_house_and_similar  Flats_appartments  Other_Dwellings  \\\n",
       "0                       0                  0                0   \n",
       "1                      20                  0                0   \n",
       "2                     328               1184               10   \n",
       "3                      14                  0                0   \n",
       "4                       0                  0                0   \n",
       "\n",
       "   Dweling_structur_NS  Total_dwellings  \n",
       "0                    0                6  \n",
       "1                    0             1203  \n",
       "2                   12             2165  \n",
       "3                    0              349  \n",
       "4                    0               11  "
      ]
     },
     "execution_count": 21,
     "metadata": {},
     "output_type": "execute_result"
    }
   ],
   "source": [
    "df1.head()"
   ]
  },
  {
   "cell_type": "code",
   "execution_count": 22,
   "metadata": {},
   "outputs": [
    {
     "data": {
      "text/html": [
       "<div>\n",
       "<style scoped>\n",
       "    .dataframe tbody tr th:only-of-type {\n",
       "        vertical-align: middle;\n",
       "    }\n",
       "\n",
       "    .dataframe tbody tr th {\n",
       "        vertical-align: top;\n",
       "    }\n",
       "\n",
       "    .dataframe thead th {\n",
       "        text-align: right;\n",
       "    }\n",
       "</style>\n",
       "<table border=\"1\" class=\"dataframe\">\n",
       "  <thead>\n",
       "    <tr style=\"text-align: right;\">\n",
       "      <th></th>\n",
       "      <th>SSC_CODE_2016</th>\n",
       "      <th>Total_rented_dwellings</th>\n",
       "      <th>Separate_house_Total</th>\n",
       "      <th>Town_house_and_similar</th>\n",
       "      <th>Flats_appartments</th>\n",
       "      <th>Other_Dwellings</th>\n",
       "      <th>Dweling_structur_NS</th>\n",
       "      <th>Total_dwellings</th>\n",
       "    </tr>\n",
       "  </thead>\n",
       "  <tbody>\n",
       "    <tr>\n",
       "      <th>2</th>\n",
       "      <td>SSC10003</td>\n",
       "      <td>800.0</td>\n",
       "      <td>623.0</td>\n",
       "      <td>328.0</td>\n",
       "      <td>1184.0</td>\n",
       "      <td>10.0</td>\n",
       "      <td>12.0</td>\n",
       "      <td>2165.0</td>\n",
       "    </tr>\n",
       "  </tbody>\n",
       "</table>\n",
       "</div>"
      ],
      "text/plain": [
       "  SSC_CODE_2016  Total_rented_dwellings  Separate_house_Total  \\\n",
       "2      SSC10003                   800.0                 623.0   \n",
       "\n",
       "   Town_house_and_similar  Flats_appartments  Other_Dwellings  \\\n",
       "2                   328.0             1184.0             10.0   \n",
       "\n",
       "   Dweling_structur_NS  Total_dwellings  \n",
       "2                 12.0           2165.0  "
      ]
     },
     "execution_count": 22,
     "metadata": {},
     "output_type": "execute_result"
    }
   ],
   "source": [
    "df1.where(df1['SSC_CODE_2016']=='SSC10003').dropna()"
   ]
  },
  {
   "cell_type": "code",
   "execution_count": 26,
   "metadata": {},
   "outputs": [
    {
     "data": {
      "text/plain": [
       "SSC_CODE_2016             4526\n",
       "Total_rented_dwellings    4526\n",
       "Separate_house_Total      4526\n",
       "Town_house_and_similar    4526\n",
       "Flats_appartments         4526\n",
       "Other_Dwellings           4526\n",
       "Dweling_structur_NS       4526\n",
       "Total_dwellings           4526\n",
       "dtype: int64"
      ]
     },
     "execution_count": 26,
     "metadata": {},
     "output_type": "execute_result"
    }
   ],
   "source": [
    "df1.count()"
   ]
  },
  {
   "cell_type": "code",
   "execution_count": null,
   "metadata": {},
   "outputs": [],
   "source": []
  }
 ],
 "metadata": {
  "kernelspec": {
   "display_name": "Python 3",
   "language": "python",
   "name": "python3"
  },
  "language_info": {
   "codemirror_mode": {
    "name": "ipython",
    "version": 3
   },
   "file_extension": ".py",
   "mimetype": "text/x-python",
   "name": "python",
   "nbconvert_exporter": "python",
   "pygments_lexer": "ipython3",
   "version": "3.6.6"
  }
 },
 "nbformat": 4,
 "nbformat_minor": 2
}
