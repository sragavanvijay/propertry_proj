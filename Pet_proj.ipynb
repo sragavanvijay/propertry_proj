{
 "cells": [
  {
   "cell_type": "code",
   "execution_count": 1,
   "metadata": {},
   "outputs": [],
   "source": [
    "import requests\n",
    "from requests.auth import HTTPDigestAuth\n",
    "import json"
   ]
  },
  {
   "cell_type": "code",
   "execution_count": 2,
   "metadata": {},
   "outputs": [],
   "source": [
    "base = \"http://stat.data.abs.gov.au/sdmx-json/data/ABS_C16_T06_LGA/3.TOT.1.LGA2016.1/all?detail=Full&dimensionAtObservation=AllDimensions\"\n",
    "year_list = ['2013','2014','2015','2016','2017']\n",
    "month_list = ['01','02','03','04','05','06','07','08','09','10','11','12']\n"
   ]
  },
  {
   "cell_type": "code",
   "execution_count": 3,
   "metadata": {},
   "outputs": [
    {
     "ename": "SyntaxError",
     "evalue": "invalid syntax (<ipython-input-3-9bc160b54404>, line 4)",
     "output_type": "error",
     "traceback": [
      "\u001b[0;36m  File \u001b[0;32m\"<ipython-input-3-9bc160b54404>\"\u001b[0;36m, line \u001b[0;32m4\u001b[0m\n\u001b[0;31m    r.\u001b[0m\n\u001b[0m      ^\u001b[0m\n\u001b[0;31mSyntaxError\u001b[0m\u001b[0;31m:\u001b[0m invalid syntax\n"
     ]
    }
   ],
   "source": [
    "#r = requests.get(base)\n",
    "\n",
    "\n",
    "r.\n",
    "#myResponse = requests.post(url,data=dat)\n",
    "#print(myResponse)"
   ]
  },
  {
   "cell_type": "code",
   "execution_count": 4,
   "metadata": {},
   "outputs": [],
   "source": [
    "dat='{\"header\":{\"id\":\"ed4fa26b-c589-4690-8bc8-32a7601068ff\",\"test\":false,\"prepared\":\"2018-11-16T00:08:20.0939011Z\",\"sender\":{\"id\":\"ABS\",\"name\":\"Australian Bureau of Statistics\"},\"links\":[{\"href\":\"http://stat.data.abs.gov.au:80/sdmx-json/data/ABS_CENSUS2011_B29_SA1_SA/0_4.D.0.SA1.401011001.A/all?detail=Full&dimensionAtObservation=AllDimensions\",\"rel\":\"request\"}]},\"dataSets\":[{\"action\":\"Information\",\"observations\":{}}],\"structure\":{\"links\":[{\"href\":\"http://stat.data.abs.gov.au/sdmx-json/dataflow/ABS_CENSUS2011_B29_SA1_SA/all\",\"rel\":\"dataflow\"}],\"name\":\"B29 Number of Motor Vehicles by Dwellings(SA1 SA)\",\"description\":\"B29 Number of Motor Vehicles by Dwellings(SA1 SA)\",\"dimensions\":{\"observation\":[]},\"attributes\":{\"dataSet\":[],\"series\":[],\"observation\":[{\"id\":\"TIME_FORMAT\",\"name\":\"Time Format\",\"values\":[]},{\"id\":\"OBS_STATUS\",\"name\":\"Observation Status\",\"values\":[]}]},\"annotations\":[{\"title\":\"Statistical usage warning\",\"uri\":\"\",\"text\":\"ABS.Stat beta is continuing to be developed.  Data will be updated as soon as possible following its 11:30 am release on the ABS website.\"}]}}'"
   ]
  },
  {
   "cell_type": "code",
   "execution_count": 5,
   "metadata": {},
   "outputs": [
    {
     "ename": "NameError",
     "evalue": "name 'myResponse' is not defined",
     "output_type": "error",
     "traceback": [
      "\u001b[0;31m\u001b[0m",
      "\u001b[0;31mNameError\u001b[0mTraceback (most recent call last)",
      "\u001b[0;32m<ipython-input-5-2778334cac6a>\u001b[0m in \u001b[0;36m<module>\u001b[0;34m\u001b[0m\n\u001b[0;32m----> 1\u001b[0;31m \u001b[0mprint\u001b[0m\u001b[0;34m(\u001b[0m\u001b[0mmyResponse\u001b[0m\u001b[0;34m.\u001b[0m\u001b[0mtext\u001b[0m\u001b[0;34m)\u001b[0m\u001b[0;34m\u001b[0m\u001b[0m\n\u001b[0m",
      "\u001b[0;31mNameError\u001b[0m: name 'myResponse' is not defined"
     ]
    }
   ],
   "source": [
    "print(myResponse.text)"
   ]
  },
  {
   "cell_type": "code",
   "execution_count": null,
   "metadata": {},
   "outputs": [],
   "source": []
  }
 ],
 "metadata": {
  "kernelspec": {
   "display_name": "Python 3",
   "language": "python",
   "name": "python3"
  },
  "language_info": {
   "codemirror_mode": {
    "name": "ipython",
    "version": 3
   },
   "file_extension": ".py",
   "mimetype": "text/x-python",
   "name": "python",
   "nbconvert_exporter": "python",
   "pygments_lexer": "ipython3",
   "version": "3.6.6"
  }
 },
 "nbformat": 4,
 "nbformat_minor": 2
}
